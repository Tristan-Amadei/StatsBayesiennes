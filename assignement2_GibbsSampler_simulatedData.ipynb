{
 "cells": [
  {
   "cell_type": "code",
   "execution_count": 1,
   "id": "absolute-fellow",
   "metadata": {
    "tags": []
   },
   "outputs": [],
   "source": [
    "import numpy as np\n",
    "from tqdm import tqdm\n",
    "import matplotlib.pyplot as plt\n",
    "from numba import njit, prange\n",
    "import time"
   ]
  },
  {
   "cell_type": "markdown",
   "id": "strange-bangkok",
   "metadata": {},
   "source": [
    "# Save results"
   ]
  },
  {
   "cell_type": "code",
   "execution_count": 2,
   "id": "consecutive-repair",
   "metadata": {
    "tags": []
   },
   "outputs": [],
   "source": [
    "import os\n",
    "import pickle \n",
    "\n",
    "FILE_PATH = \"dict_gibbs_simulations.pkl\"\n",
    "\n",
    "def save_dictionary(dict_):\n",
    "    with open(FILE_PATH, 'wb') as f:\n",
    "        pickle.dump(dict_, f)\n",
    "\n",
    "def load_dictionary():\n",
    "    with open(FILE_PATH, 'rb') as f:\n",
    "        loaded_dict = pickle.load(f)\n",
    "    return loaded_dict"
   ]
  },
  {
   "cell_type": "markdown",
   "id": "adb2c975-2a4b-4aee-9b4c-6d45be253246",
   "metadata": {},
   "source": [
    "# Load Gibbs Sampler code"
   ]
  },
  {
   "cell_type": "code",
   "execution_count": 3,
   "id": "b763d6b9-4582-4fcb-b965-723140978da6",
   "metadata": {
    "tags": []
   },
   "outputs": [
    {
     "name": "stdout",
     "output_type": "stream",
     "text": [
      "Nb CPU cores: 12\n"
     ]
    }
   ],
   "source": [
    "%run GibbsSampler.ipynb"
   ]
  },
  {
   "cell_type": "code",
   "execution_count": 4,
   "id": "ab5606a0-a99c-40c9-93e6-271b0c4820cd",
   "metadata": {
    "tags": []
   },
   "outputs": [
    {
     "name": "stderr",
     "output_type": "stream",
     "text": [
      "100%|████████████████████████████████████████████████████████████████████████████| 10000/10000 [07:19<00:00, 22.73it/s]\n"
     ]
    }
   ],
   "source": [
    "params, beta = gibbs_sampler(0.02, 5, n_iter=11_000, burn_in=1000, k=k, T=T, a=a, b=b, A=A, B=B, display_=True)"
   ]
  },
  {
   "cell_type": "markdown",
   "id": "changed-international",
   "metadata": {},
   "source": [
    "### Run Gibbs sampler for each dataset"
   ]
  },
  {
   "cell_type": "code",
   "execution_count": 29,
   "id": "accredited-parts",
   "metadata": {
    "tags": []
   },
   "outputs": [
    {
     "name": "stdout",
     "output_type": "stream",
     "text": [
      "[(0.02, 5), (0.02, 10), (0.02, 100), (0.25, 5), (0.25, 10), (0.25, 100), (0.5, 5), (0.5, 10), (0.5, 100)]\n"
     ]
    }
   ],
   "source": [
    "all_values = []\n",
    "Ry_values = [0.02, 0.25, 0.5]\n",
    "s_values = [5, 10, 100]\n",
    "for Ry in Ry_values:\n",
    "    for s in s_values:\n",
    "        all_values.append((Ry, s))\n",
    "print(all_values)"
   ]
  },
  {
   "cell_type": "code",
   "execution_count": 30,
   "id": "italian-retention",
   "metadata": {
    "tags": []
   },
   "outputs": [],
   "source": [
    "dict_results = load_dictionary()"
   ]
  },
  {
   "cell_type": "code",
   "execution_count": 44,
   "id": "5171ece0-0fbe-4045-a1ca-423ab6c8f287",
   "metadata": {
    "tags": []
   },
   "outputs": [],
   "source": [
    "for Ry, s in all_values:\n",
    "    while len(dict_results[f\"{Ry}, {s}\"]) < 200:\n",
    "        print(f\"len[{Ry}, {s}] -> {len(dict_results[f'{Ry}, {s}'])}\")\n",
    "        parameters, final_beta = gibbs_sampler(Ry, s, n_iter=n_iter, burn_in=burn_in, k=k, T=T, a=a, b=b, A=A, B=B, display_=True)\n",
    "        dict_results[f\"{Ry}, {s}\"].append([parameters, final_beta])\n",
    "    save_dictionary(dict_results)"
   ]
  }
 ],
 "metadata": {
  "kernelspec": {
   "display_name": "Python 3 (ipykernel)",
   "language": "python",
   "name": "python3"
  },
  "language_info": {
   "codemirror_mode": {
    "name": "ipython",
    "version": 3
   },
   "file_extension": ".py",
   "mimetype": "text/x-python",
   "name": "python",
   "nbconvert_exporter": "python",
   "pygments_lexer": "ipython3",
   "version": "3.11.5"
  }
 },
 "nbformat": 4,
 "nbformat_minor": 5
}
