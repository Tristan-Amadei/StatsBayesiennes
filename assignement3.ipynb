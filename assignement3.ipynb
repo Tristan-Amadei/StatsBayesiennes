{
 "cells": [
  {
   "cell_type": "code",
   "execution_count": 1,
   "id": "1592a2de-17d6-4834-89d1-2b5f8a533cb9",
   "metadata": {
    "tags": []
   },
   "outputs": [],
   "source": [
    "import pandas as pd\n",
    "import numpy as np\n",
    "import matplotlib.pyplot as plt"
   ]
  },
  {
   "cell_type": "markdown",
   "id": "d9495b45-2888-4544-8514-5bf4fbc07a60",
   "metadata": {},
   "source": [
    "# Load data"
   ]
  },
  {
   "cell_type": "code",
   "execution_count": 2,
   "id": "274a8120-74f4-4154-a58e-4e549483361e",
   "metadata": {
    "tags": []
   },
   "outputs": [],
   "source": [
    "df = pd.read_csv(\"datasets/Macro1.csv\")"
   ]
  },
  {
   "cell_type": "code",
   "execution_count": 3,
   "id": "97d22fc2-6aee-475b-9ebe-b97c079bfb7c",
   "metadata": {
    "tags": []
   },
   "outputs": [
    {
     "data": {
      "text/html": [
       "<div>\n",
       "<style scoped>\n",
       "    .dataframe tbody tr th:only-of-type {\n",
       "        vertical-align: middle;\n",
       "    }\n",
       "\n",
       "    .dataframe tbody tr th {\n",
       "        vertical-align: top;\n",
       "    }\n",
       "\n",
       "    .dataframe thead th {\n",
       "        text-align: right;\n",
       "    }\n",
       "</style>\n",
       "<table border=\"1\" class=\"dataframe\">\n",
       "  <thead>\n",
       "    <tr style=\"text-align: right;\">\n",
       "      <th></th>\n",
       "      <th>sasdate</th>\n",
       "      <th>RPI</th>\n",
       "      <th>W875RX1</th>\n",
       "      <th>DPCERA3M086SBEA</th>\n",
       "      <th>CMRMTSPLx</th>\n",
       "      <th>RETAILx</th>\n",
       "      <th>INDPRO</th>\n",
       "      <th>IPFPNSS</th>\n",
       "      <th>IPFINAL</th>\n",
       "      <th>IPCONGD</th>\n",
       "      <th>...</th>\n",
       "      <th>DSERRG3M086SBEA</th>\n",
       "      <th>CES0600000008</th>\n",
       "      <th>CES2000000008</th>\n",
       "      <th>CES3000000008</th>\n",
       "      <th>UMCSENTx</th>\n",
       "      <th>MZMSL</th>\n",
       "      <th>DTCOLNVHFNM</th>\n",
       "      <th>DTCTHFNM</th>\n",
       "      <th>INVEST</th>\n",
       "      <th>VXOCLSx</th>\n",
       "    </tr>\n",
       "  </thead>\n",
       "  <tbody>\n",
       "    <tr>\n",
       "      <th>1</th>\n",
       "      <td>1959-01-01</td>\n",
       "      <td>2289.8</td>\n",
       "      <td>2151.9</td>\n",
       "      <td>18.191</td>\n",
       "      <td>253747.578885</td>\n",
       "      <td>18234.44037</td>\n",
       "      <td>21.9289</td>\n",
       "      <td>21.5499</td>\n",
       "      <td>20.9407</td>\n",
       "      <td>28.4830</td>\n",
       "      <td>...</td>\n",
       "      <td>12.133</td>\n",
       "      <td>2.13</td>\n",
       "      <td>2.45</td>\n",
       "      <td>2.04</td>\n",
       "      <td>NaN</td>\n",
       "      <td>274.9</td>\n",
       "      <td>6476.0</td>\n",
       "      <td>12298.0</td>\n",
       "      <td>84.2</td>\n",
       "      <td>NaN</td>\n",
       "    </tr>\n",
       "    <tr>\n",
       "      <th>2</th>\n",
       "      <td>1959-02-01</td>\n",
       "      <td>2299.6</td>\n",
       "      <td>2160.2</td>\n",
       "      <td>18.380</td>\n",
       "      <td>255653.461901</td>\n",
       "      <td>18368.21974</td>\n",
       "      <td>22.3584</td>\n",
       "      <td>21.8408</td>\n",
       "      <td>21.1221</td>\n",
       "      <td>28.6919</td>\n",
       "      <td>...</td>\n",
       "      <td>12.149</td>\n",
       "      <td>2.13</td>\n",
       "      <td>2.46</td>\n",
       "      <td>2.05</td>\n",
       "      <td>NaN</td>\n",
       "      <td>276.0</td>\n",
       "      <td>6476.0</td>\n",
       "      <td>12298.0</td>\n",
       "      <td>83.5</td>\n",
       "      <td>NaN</td>\n",
       "    </tr>\n",
       "    <tr>\n",
       "      <th>3</th>\n",
       "      <td>1959-03-01</td>\n",
       "      <td>2314.4</td>\n",
       "      <td>2176.1</td>\n",
       "      <td>18.555</td>\n",
       "      <td>254743.765035</td>\n",
       "      <td>18521.70306</td>\n",
       "      <td>22.6805</td>\n",
       "      <td>21.9730</td>\n",
       "      <td>21.2257</td>\n",
       "      <td>28.6919</td>\n",
       "      <td>...</td>\n",
       "      <td>12.169</td>\n",
       "      <td>2.15</td>\n",
       "      <td>2.45</td>\n",
       "      <td>2.07</td>\n",
       "      <td>NaN</td>\n",
       "      <td>277.4</td>\n",
       "      <td>6508.0</td>\n",
       "      <td>12349.0</td>\n",
       "      <td>81.6</td>\n",
       "      <td>NaN</td>\n",
       "    </tr>\n",
       "  </tbody>\n",
       "</table>\n",
       "<p>3 rows × 127 columns</p>\n",
       "</div>"
      ],
      "text/plain": [
       "     sasdate     RPI  W875RX1  DPCERA3M086SBEA      CMRMTSPLx      RETAILx  \\\n",
       "1 1959-01-01  2289.8   2151.9           18.191  253747.578885  18234.44037   \n",
       "2 1959-02-01  2299.6   2160.2           18.380  255653.461901  18368.21974   \n",
       "3 1959-03-01  2314.4   2176.1           18.555  254743.765035  18521.70306   \n",
       "\n",
       "    INDPRO  IPFPNSS  IPFINAL  IPCONGD  ...  DSERRG3M086SBEA  CES0600000008  \\\n",
       "1  21.9289  21.5499  20.9407  28.4830  ...           12.133           2.13   \n",
       "2  22.3584  21.8408  21.1221  28.6919  ...           12.149           2.13   \n",
       "3  22.6805  21.9730  21.2257  28.6919  ...           12.169           2.15   \n",
       "\n",
       "   CES2000000008  CES3000000008  UMCSENTx  MZMSL  DTCOLNVHFNM  DTCTHFNM  \\\n",
       "1           2.45           2.04       NaN  274.9       6476.0   12298.0   \n",
       "2           2.46           2.05       NaN  276.0       6476.0   12298.0   \n",
       "3           2.45           2.07       NaN  277.4       6508.0   12349.0   \n",
       "\n",
       "   INVEST  VXOCLSx  \n",
       "1    84.2      NaN  \n",
       "2    83.5      NaN  \n",
       "3    81.6      NaN  \n",
       "\n",
       "[3 rows x 127 columns]"
      ]
     },
     "execution_count": 3,
     "metadata": {},
     "output_type": "execute_result"
    }
   ],
   "source": [
    "df = df.drop(0)\n",
    "df['sasdate'] = pd.to_datetime(df['sasdate'])\n",
    "df.head(3)"
   ]
  },
  {
   "cell_type": "code",
   "execution_count": 4,
   "id": "60f3592c-565b-4f33-9d71-03eb1ab7d02b",
   "metadata": {
    "tags": []
   },
   "outputs": [
    {
     "name": "stdout",
     "output_type": "stream",
     "text": [
      "There are 944 missing values in the dataset\n",
      "This represents 1.108% of the whole dataset.\n"
     ]
    }
   ],
   "source": [
    "print(f'There are {df.isna().sum().sum()} missing values in the dataset'\n",
    "      f'\\nThis represents {round(100*df.isna().sum().sum() / (df.shape[0]*df.shape[1]), 3)}% of the whole dataset.')"
   ]
  },
  {
   "cell_type": "markdown",
   "id": "48a08bb1-a268-4fde-8bd5-d4b14d03518d",
   "metadata": {},
   "source": [
    "# Preprocessing"
   ]
  },
  {
   "cell_type": "markdown",
   "id": "c78f8641-58b4-4072-9bcb-7e9f64ed0a8b",
   "metadata": {},
   "source": [
    "### Filling in missing values"
   ]
  },
  {
   "cell_type": "code",
   "execution_count": 5,
   "id": "b2248392-8afd-47a3-9a17-54e78f089ca9",
   "metadata": {
    "tags": []
   },
   "outputs": [],
   "source": [
    "from sklearn.impute import KNNImputer"
   ]
  },
  {
   "cell_type": "code",
   "execution_count": 6,
   "id": "7932baaa-ba4d-4889-b4d0-d99013e36527",
   "metadata": {
    "tags": []
   },
   "outputs": [],
   "source": [
    "imputer = KNNImputer()\n",
    "df_filled = imputer.fit_transform(df.drop(columns=['sasdate']))"
   ]
  },
  {
   "cell_type": "code",
   "execution_count": 7,
   "id": "91a5e43a-5d6f-4cc0-a4bb-6090d56020c7",
   "metadata": {
    "tags": []
   },
   "outputs": [],
   "source": [
    "df[list(df.columns)[1:]] = df_filled"
   ]
  },
  {
   "cell_type": "code",
   "execution_count": 8,
   "id": "6a6d95bb-db11-42dd-bbaa-499ec2d5d2a6",
   "metadata": {
    "tags": []
   },
   "outputs": [
    {
     "name": "stdout",
     "output_type": "stream",
     "text": [
      "There are now 0 missing values in the dataset.\n"
     ]
    }
   ],
   "source": [
    "print(f'There are now {df.isna().sum().sum()} missing values in the dataset.')"
   ]
  },
  {
   "cell_type": "markdown",
   "id": "24cb8264-0574-4140-a70c-25c764b68338",
   "metadata": {},
   "source": [
    "### Scale data"
   ]
  },
  {
   "cell_type": "code",
   "execution_count": 9,
   "id": "68143885-fa91-499e-a7f9-fac6edaa23ed",
   "metadata": {
    "tags": []
   },
   "outputs": [],
   "source": [
    "from sklearn.preprocessing import StandardScaler"
   ]
  },
  {
   "cell_type": "code",
   "execution_count": 10,
   "id": "f97465e6-ce98-4dee-8446-a30edd4d5055",
   "metadata": {
    "tags": []
   },
   "outputs": [],
   "source": [
    "scaler = StandardScaler()\n",
    "scaled = scaler.fit_transform(df.drop(columns=['sasdate']))"
   ]
  },
  {
   "cell_type": "code",
   "execution_count": 11,
   "id": "1c9ecff7-a2e3-4e03-92a4-3d34369ee3fd",
   "metadata": {
    "tags": []
   },
   "outputs": [
    {
     "data": {
      "text/html": [
       "<div>\n",
       "<style scoped>\n",
       "    .dataframe tbody tr th:only-of-type {\n",
       "        vertical-align: middle;\n",
       "    }\n",
       "\n",
       "    .dataframe tbody tr th {\n",
       "        vertical-align: top;\n",
       "    }\n",
       "\n",
       "    .dataframe thead th {\n",
       "        text-align: right;\n",
       "    }\n",
       "</style>\n",
       "<table border=\"1\" class=\"dataframe\">\n",
       "  <thead>\n",
       "    <tr style=\"text-align: right;\">\n",
       "      <th></th>\n",
       "      <th>sasdate</th>\n",
       "      <th>RPI</th>\n",
       "      <th>W875RX1</th>\n",
       "      <th>DPCERA3M086SBEA</th>\n",
       "      <th>CMRMTSPLx</th>\n",
       "      <th>RETAILx</th>\n",
       "      <th>INDPRO</th>\n",
       "      <th>IPFPNSS</th>\n",
       "      <th>IPFINAL</th>\n",
       "      <th>IPCONGD</th>\n",
       "      <th>...</th>\n",
       "      <th>DSERRG3M086SBEA</th>\n",
       "      <th>CES0600000008</th>\n",
       "      <th>CES2000000008</th>\n",
       "      <th>CES3000000008</th>\n",
       "      <th>UMCSENTx</th>\n",
       "      <th>MZMSL</th>\n",
       "      <th>DTCOLNVHFNM</th>\n",
       "      <th>DTCTHFNM</th>\n",
       "      <th>INVEST</th>\n",
       "      <th>VXOCLSx</th>\n",
       "    </tr>\n",
       "  </thead>\n",
       "  <tbody>\n",
       "    <tr>\n",
       "      <th>1</th>\n",
       "      <td>1959-01-01</td>\n",
       "      <td>2289.8</td>\n",
       "      <td>2151.9</td>\n",
       "      <td>18.191</td>\n",
       "      <td>253747.578885</td>\n",
       "      <td>18234.44037</td>\n",
       "      <td>21.9289</td>\n",
       "      <td>21.5499</td>\n",
       "      <td>20.9407</td>\n",
       "      <td>28.4830</td>\n",
       "      <td>...</td>\n",
       "      <td>12.133</td>\n",
       "      <td>2.13</td>\n",
       "      <td>2.45</td>\n",
       "      <td>2.04</td>\n",
       "      <td>94.42</td>\n",
       "      <td>274.9</td>\n",
       "      <td>6476.0</td>\n",
       "      <td>12298.0</td>\n",
       "      <td>84.2</td>\n",
       "      <td>16.6388</td>\n",
       "    </tr>\n",
       "    <tr>\n",
       "      <th>2</th>\n",
       "      <td>1959-02-01</td>\n",
       "      <td>2299.6</td>\n",
       "      <td>2160.2</td>\n",
       "      <td>18.380</td>\n",
       "      <td>255653.461901</td>\n",
       "      <td>18368.21974</td>\n",
       "      <td>22.3584</td>\n",
       "      <td>21.8408</td>\n",
       "      <td>21.1221</td>\n",
       "      <td>28.6919</td>\n",
       "      <td>...</td>\n",
       "      <td>12.149</td>\n",
       "      <td>2.13</td>\n",
       "      <td>2.46</td>\n",
       "      <td>2.05</td>\n",
       "      <td>95.50</td>\n",
       "      <td>276.0</td>\n",
       "      <td>6476.0</td>\n",
       "      <td>12298.0</td>\n",
       "      <td>83.5</td>\n",
       "      <td>16.6388</td>\n",
       "    </tr>\n",
       "    <tr>\n",
       "      <th>3</th>\n",
       "      <td>1959-03-01</td>\n",
       "      <td>2314.4</td>\n",
       "      <td>2176.1</td>\n",
       "      <td>18.555</td>\n",
       "      <td>254743.765035</td>\n",
       "      <td>18521.70306</td>\n",
       "      <td>22.6805</td>\n",
       "      <td>21.9730</td>\n",
       "      <td>21.2257</td>\n",
       "      <td>28.6919</td>\n",
       "      <td>...</td>\n",
       "      <td>12.169</td>\n",
       "      <td>2.15</td>\n",
       "      <td>2.45</td>\n",
       "      <td>2.07</td>\n",
       "      <td>94.42</td>\n",
       "      <td>277.4</td>\n",
       "      <td>6508.0</td>\n",
       "      <td>12349.0</td>\n",
       "      <td>81.6</td>\n",
       "      <td>16.6388</td>\n",
       "    </tr>\n",
       "  </tbody>\n",
       "</table>\n",
       "<p>3 rows × 127 columns</p>\n",
       "</div>"
      ],
      "text/plain": [
       "     sasdate     RPI  W875RX1  DPCERA3M086SBEA      CMRMTSPLx      RETAILx  \\\n",
       "1 1959-01-01  2289.8   2151.9           18.191  253747.578885  18234.44037   \n",
       "2 1959-02-01  2299.6   2160.2           18.380  255653.461901  18368.21974   \n",
       "3 1959-03-01  2314.4   2176.1           18.555  254743.765035  18521.70306   \n",
       "\n",
       "    INDPRO  IPFPNSS  IPFINAL  IPCONGD  ...  DSERRG3M086SBEA  CES0600000008  \\\n",
       "1  21.9289  21.5499  20.9407  28.4830  ...           12.133           2.13   \n",
       "2  22.3584  21.8408  21.1221  28.6919  ...           12.149           2.13   \n",
       "3  22.6805  21.9730  21.2257  28.6919  ...           12.169           2.15   \n",
       "\n",
       "   CES2000000008  CES3000000008  UMCSENTx  MZMSL  DTCOLNVHFNM  DTCTHFNM  \\\n",
       "1           2.45           2.04     94.42  274.9       6476.0   12298.0   \n",
       "2           2.46           2.05     95.50  276.0       6476.0   12298.0   \n",
       "3           2.45           2.07     94.42  277.4       6508.0   12349.0   \n",
       "\n",
       "   INVEST  VXOCLSx  \n",
       "1    84.2  16.6388  \n",
       "2    83.5  16.6388  \n",
       "3    81.6  16.6388  \n",
       "\n",
       "[3 rows x 127 columns]"
      ]
     },
     "execution_count": 11,
     "metadata": {},
     "output_type": "execute_result"
    }
   ],
   "source": [
    "df.head(3)"
   ]
  },
  {
   "cell_type": "markdown",
   "id": "a514d7a1-0bf6-42ae-92fd-e2fa670025c8",
   "metadata": {},
   "source": [
    "# Gibbs Sampler"
   ]
  },
  {
   "cell_type": "markdown",
   "id": "6545d109-2189-4cc9-b69e-149b2f8f4978",
   "metadata": {},
   "source": [
    "### Import and define function"
   ]
  },
  {
   "cell_type": "code",
   "execution_count": 12,
   "id": "059beac4-1562-4c10-9f03-9f51d3315ed1",
   "metadata": {
    "tags": []
   },
   "outputs": [
    {
     "name": "stdout",
     "output_type": "stream",
     "text": [
      "Nb CPU cores: 12\n"
     ]
    }
   ],
   "source": [
    "%run GibbsSampler.ipynb"
   ]
  },
  {
   "cell_type": "code",
   "execution_count": 13,
   "id": "a9d1de3a-6ddb-4a57-909a-1568e36d759f",
   "metadata": {
    "tags": []
   },
   "outputs": [],
   "source": [
    "l = 0\n",
    "T = 200"
   ]
  },
  {
   "cell_type": "code",
   "execution_count": 14,
   "id": "138d7981-1a83-48a4-a9d9-4984029afa35",
   "metadata": {
    "tags": []
   },
   "outputs": [],
   "source": [
    "a, b, A, B = 1, 1, 1, 1"
   ]
  },
  {
   "cell_type": "code",
   "execution_count": 15,
   "id": "319667ce-a8e1-4a8e-9f49-42cb6628e405",
   "metadata": {
    "tags": []
   },
   "outputs": [],
   "source": [
    "def draw_initial_parameters(X, Y, Ry, s, a=a, b=b, A=A, B=B, T=T):\n",
    "    q = draw_initial_q(a=a, b=b)\n",
    "    r2 = draw_initial_R2(A=A, B=B)\n",
    "    k = X.shape[1]\n",
    "    beta, z = draw_initial_beta(s, k=k)\n",
    "    sigma_squared = draw_inital_sigma_squared(X, beta, Ry, T=T)\n",
    "    v_x_bar = (1/k) * sum([np.var(x) for x in X])\n",
    "    gamma2 = compute_gamma2(X, r2, q, v_x_bar, k=k)\n",
    "    q_grid = np.concatenate((np.arange(0.001, 0.1, 0.001), np.arange(0.1, 0.9, 0.01), np.arange(0.9, 1, 0.001)))\n",
    "    return q, r2, beta, sigma_squared, z, v_x_bar, gamma2, q_grid"
   ]
  },
  {
   "cell_type": "code",
   "execution_count": 16,
   "id": "631445b3-e82d-4351-a900-adbac99ecb42",
   "metadata": {
    "tags": []
   },
   "outputs": [],
   "source": [
    "def run_gibbs_sampler(X, Y, Ry, s, n_iter=11_000, burn_in=1000, a=a, b=b, A=A, B=B, T=T, display_=True):\n",
    "    q, r2, beta, sigma_squared, z, v_x_bar, gamma2, q_grid = draw_initial_parameters(X, Y, Ry, s, a=a, b=b, A=A, B=B, T=T)\n",
    "    params, beta = gibbs_sampling(q, r2, Y, X, beta, sigma_squared, z, v_x_bar, gamma2, q_grid, k=X.shape[1], n_iter=n_iter, burn_in=burn_in, T=T, display_=display_)\n",
    "    return params, beta"
   ]
  },
  {
   "cell_type": "markdown",
   "id": "9028dcd9-c3e4-4ddb-9f0a-5da5ba795440",
   "metadata": {},
   "source": [
    "### Run Gibbs sampler"
   ]
  },
  {
   "cell_type": "code",
   "execution_count": 17,
   "id": "ec7d4752-6b34-485e-942c-6928ca311dc4",
   "metadata": {
    "tags": []
   },
   "outputs": [],
   "source": [
    "X = df[list(df.columns)[2:]].values\n",
    "Y = df[list(df.columns)[1:2]].values"
   ]
  },
  {
   "cell_type": "code",
   "execution_count": 19,
   "id": "04cba8a0-3186-49d3-b3b9-3bb9dcfff2d3",
   "metadata": {
    "tags": []
   },
   "outputs": [
    {
     "name": "stderr",
     "output_type": "stream",
     "text": [
      "100%|████████████████████████████████████████████████████████████████████████████| 11000/11000 [17:22<00:00, 10.55it/s]\n"
     ]
    }
   ],
   "source": [
    "run_gibbs_sampler(X, Y, .25, 10, n_iter=11_000, burn_in=1000, a=a, b=b, A=A, B=B, T=T, display_=True)"
   ]
  }
 ],
 "metadata": {
  "kernelspec": {
   "display_name": "Python 3 (ipykernel)",
   "language": "python",
   "name": "python3"
  },
  "language_info": {
   "codemirror_mode": {
    "name": "ipython",
    "version": 3
   },
   "file_extension": ".py",
   "mimetype": "text/x-python",
   "name": "python",
   "nbconvert_exporter": "python",
   "pygments_lexer": "ipython3",
   "version": "3.11.5"
  }
 },
 "nbformat": 4,
 "nbformat_minor": 5
}
