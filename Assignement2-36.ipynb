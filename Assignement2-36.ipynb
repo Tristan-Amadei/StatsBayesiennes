{
 "cells": [
  {
   "cell_type": "code",
   "execution_count": 1,
   "id": "expensive-seeker",
   "metadata": {},
   "outputs": [],
   "source": [
    "import numpy as np\n",
    "from tqdm import tqdm\n",
    "import matplotlib.pyplot as plt\n",
    "from numba import njit, prange\n",
    "import time"
   ]
  },
  {
   "cell_type": "markdown",
   "id": "quick-style",
   "metadata": {},
   "source": [
    "# Save results"
   ]
  },
  {
   "cell_type": "code",
   "execution_count": 2,
   "id": "photographic-identity",
   "metadata": {},
   "outputs": [],
   "source": [
    "import os\n",
    "import pickle \n",
    "\n",
    "def save_dictionary(dict_):\n",
    "    with open(FILE_PATH, 'wb') as f:\n",
    "        pickle.dump(dict_, f)\n",
    "\n",
    "def load_dictionary():\n",
    "    with open(FILE_PATH, 'rb') as f:\n",
    "        loaded_dict = pickle.load(f)\n",
    "    return loaded_dict"
   ]
  },
  {
   "cell_type": "markdown",
   "id": "entitled-governor",
   "metadata": {},
   "source": [
    "# 1. Simulate data"
   ]
  },
  {
   "cell_type": "markdown",
   "id": "seasonal-calendar",
   "metadata": {},
   "source": [
    "$$y_t = u'_t \\phi + x'_t \\beta + \\epsilon_t, \\epsilon_t \\stackrel{\\text{i.i.d}}{\\sim} \\mathcal{N}(0, \\sigma^{2}) $$\n",
    "In our case, as the dimension of U is l = 0, we have \n",
    "$$y_t = x'_t \\beta + \\epsilon_t, \\epsilon_t \\stackrel{\\text{i.i.d}}{\\sim} \\mathcal{N}(0, \\sigma^{2}) $$"
   ]
  },
  {
   "cell_type": "code",
   "execution_count": 3,
   "id": "understood-neighborhood",
   "metadata": {},
   "outputs": [],
   "source": [
    "l = 0\n",
    "k = 100\n",
    "T = 200"
   ]
  },
  {
   "cell_type": "code",
   "execution_count": 4,
   "id": "historical-noise",
   "metadata": {},
   "outputs": [],
   "source": [
    "a, b, A, B = 1, 1, 1, 1"
   ]
  },
  {
   "cell_type": "markdown",
   "id": "differential-carnival",
   "metadata": {},
   "source": [
    "### Draw initial q"
   ]
  },
  {
   "cell_type": "code",
   "execution_count": 5,
   "id": "stock-sword",
   "metadata": {},
   "outputs": [],
   "source": [
    "def draw_initial_q(a=a, b=b):\n",
    "    return np.random.beta(a, b)"
   ]
  },
  {
   "cell_type": "markdown",
   "id": "delayed-analyst",
   "metadata": {},
   "source": [
    "### Draw initial $R²$"
   ]
  },
  {
   "cell_type": "code",
   "execution_count": 6,
   "id": "fifty-stuff",
   "metadata": {},
   "outputs": [],
   "source": [
    "def draw_initial_R2(A=A, B=B):\n",
    "    return np.random.beta(A, B)"
   ]
  },
  {
   "cell_type": "markdown",
   "id": "weighted-mechanism",
   "metadata": {},
   "source": [
    "### Compute initial $\\gamma^2$"
   ]
  },
  {
   "cell_type": "code",
   "execution_count": 7,
   "id": "elder-pavilion",
   "metadata": {},
   "outputs": [],
   "source": [
    "@njit\n",
    "def compute_gamma2(X, r2, q, v_x_bar, k=k):\n",
    "    denominator = q * k * v_x_bar * (1-r2)\n",
    "    return r2 / denominator"
   ]
  },
  {
   "cell_type": "markdown",
   "id": "formed-brazil",
   "metadata": {},
   "source": [
    "### Draw initial $\\sigma²$"
   ]
  },
  {
   "cell_type": "code",
   "execution_count": 8,
   "id": "female-legislature",
   "metadata": {},
   "outputs": [],
   "source": [
    "def draw_inital_sigma_squared(X, beta, Ry, T=T):\n",
    "    return ((1/Ry) - 1) * (1/T) * sum([(beta.T @ x)**2 for x in X])"
   ]
  },
  {
   "cell_type": "markdown",
   "id": "solved-sheep",
   "metadata": {},
   "source": [
    "### Draw initial $\\beta$"
   ]
  },
  {
   "cell_type": "code",
   "execution_count": 9,
   "id": "formed-receptor",
   "metadata": {},
   "outputs": [],
   "source": [
    "def draw_initial_beta(s, k=k):\n",
    "    beta = np.random.normal(size=k)\n",
    "    indices_null = np.random.choice(range(k), size=k-s, replace=False)\n",
    "    beta[indices_null] = 0\n",
    "    z = np.ones(k)\n",
    "    z[indices_null] = 0\n",
    "    return beta, z"
   ]
  },
  {
   "cell_type": "markdown",
   "id": "sonic-fundamental",
   "metadata": {},
   "source": [
    "### Simulate X"
   ]
  },
  {
   "cell_type": "code",
   "execution_count": 10,
   "id": "weekly-fundamental",
   "metadata": {},
   "outputs": [],
   "source": [
    "from scipy.linalg import toeplitz"
   ]
  },
  {
   "cell_type": "code",
   "execution_count": 11,
   "id": "green-animation",
   "metadata": {},
   "outputs": [],
   "source": [
    "rho = 0.75"
   ]
  },
  {
   "cell_type": "code",
   "execution_count": 12,
   "id": "visible-leader",
   "metadata": {},
   "outputs": [],
   "source": [
    "def draw_X(rho=rho, k=k, T=T):\n",
    "    correlation_matrix = toeplitz(rho ** np.arange(0, k))\n",
    "    X = np.random.multivariate_normal(np.zeros(k), correlation_matrix, size=T)\n",
    "    for i in range(len(X)):\n",
    "        X[i] = (X[i] - X[i].mean()) / np.std(X[i])\n",
    "    return X"
   ]
  },
  {
   "cell_type": "markdown",
   "id": "classical-needle",
   "metadata": {},
   "source": [
    "### Simulate Y"
   ]
  },
  {
   "cell_type": "code",
   "execution_count": 13,
   "id": "ranking-george",
   "metadata": {},
   "outputs": [],
   "source": [
    "def draw_Y(X, beta, sigma_squared):\n",
    "    return X @ beta + np.random.normal(0, sigma_squared, size=(X @ beta).shape[0])"
   ]
  },
  {
   "cell_type": "code",
   "execution_count": 14,
   "id": "rapid-anger",
   "metadata": {},
   "outputs": [],
   "source": [
    "def draw_dataset(Ry, s, rho=rho, k=k, T=T):\n",
    "    X = draw_X()\n",
    "    beta, z = draw_initial_beta(s, k=k)\n",
    "    sigma_squared = draw_inital_sigma_squared(X, beta, Ry, T=T)\n",
    "    Y = draw_Y(X, beta, sigma_squared)\n",
    "    return Y, X, beta, sigma_squared, z"
   ]
  },
  {
   "cell_type": "markdown",
   "id": "unexpected-journalism",
   "metadata": {},
   "source": [
    "# 2. Draw from posteriors"
   ]
  },
  {
   "cell_type": "code",
   "execution_count": 15,
   "id": "sitting-kinase",
   "metadata": {},
   "outputs": [],
   "source": [
    "# def inverse_matrix(A):\n",
    "#     try:\n",
    "#         return np.linalg.solve(A, np.eye(A.shape[0]))\n",
    "#     except:\n",
    "#         return A\n",
    "@njit(nogil=True)\n",
    "def inverse_matrix(A):\n",
    "    return np.linalg.inv(A)"
   ]
  },
  {
   "cell_type": "code",
   "execution_count": 16,
   "id": "devoted-month",
   "metadata": {},
   "outputs": [],
   "source": [
    "@njit(nogil=True)\n",
    "def draw_tildes(Y, X, beta, gamma2, z):\n",
    "    X_tilde = X[:, z != 0]\n",
    "    beta_tilde = beta[z != 0]\n",
    "    W_tilde = X_tilde.T @ X_tilde + (1/gamma2) * np.eye(int(np.sum(z)))\n",
    "    Y_tilde = Y \n",
    "    inverse_W_tilde = inverse_matrix(W_tilde)\n",
    "    beta_tilde_hat = inverse_W_tilde @ X_tilde.T @ Y_tilde\n",
    "    return X_tilde, beta_tilde, W_tilde, Y_tilde, beta_tilde_hat, inverse_W_tilde"
   ]
  },
  {
   "cell_type": "markdown",
   "id": "rural-tampa",
   "metadata": {},
   "source": [
    "### (I). Draw from $R²$"
   ]
  },
  {
   "cell_type": "code",
   "execution_count": 17,
   "id": "limiting-draft",
   "metadata": {},
   "outputs": [],
   "source": [
    "@njit\n",
    "def draw_r2(X, z, beta, sigma_squared, v_x_bar, q_grid):\n",
    "    s_z = np.sum(z)\n",
    "    r2_grid = q_grid\n",
    "    posterior = np.zeros((len(q_grid), len(r2_grid)))\n",
    "\n",
    "    #beta_term = (beta.T @ np.diag(z) @ beta)\n",
    "    beta_term = np.dot(np.dot(beta.T.astype(np.float64), np.diag(z).astype(np.float64)), beta.astype(np.float64))\n",
    "\n",
    "    q_term = q_grid ** (s_z + s_z/2 + a - 1) * (1 - q_grid) ** (k - s_z + b - 1)\n",
    "\n",
    "    for j, r2_loop in enumerate(r2_grid):\n",
    "        exp_term = np.exp((-1/(2*sigma_squared)) * ((k * v_x_bar * q_grid * (1 - r2_loop)) / r2_loop) * beta_term)\n",
    "        r2_term = r2_loop ** (A - 1 - s_z/2) * (1 - r2_loop) ** (s_z/2 + B - 1)\n",
    "        posterior[:, j] = exp_term * q_term * r2_term\n",
    "\n",
    "    # normalize the posterior\n",
    "    posterior = posterior.flatten() / posterior.sum()\n",
    "    x = np.argmax(np.random.multinomial(1, posterior))\n",
    "    i, j = x // len(q_grid), x % len(r2_grid)\n",
    "    sampled_q = q_grid[i]\n",
    "    sampled_r2 = r2_grid[j]\n",
    "    return sampled_r2, sampled_q"
   ]
  },
  {
   "cell_type": "markdown",
   "id": "closed-fever",
   "metadata": {},
   "source": [
    "### (III). Draw from z"
   ]
  },
  {
   "cell_type": "code",
   "execution_count": 18,
   "id": "hairy-voice",
   "metadata": {},
   "outputs": [],
   "source": [
    "import scipy.special as sp"
   ]
  },
  {
   "cell_type": "code",
   "execution_count": 19,
   "id": "operating-replication",
   "metadata": {},
   "outputs": [],
   "source": [
    "@njit\n",
    "def norm_1(matrix):\n",
    "    norm_1 = np.sum(np.abs(matrix), axis=0).max()\n",
    "    return norm_1\n",
    "\n",
    "@njit\n",
    "def bernouilli(q):\n",
    "    u = np.random.uniform(0, 1)\n",
    "    return 1 if u < q else 0"
   ]
  },
  {
   "cell_type": "raw",
   "id": "joined-firewall",
   "metadata": {},
   "source": [
    "@njit\n",
    "def draw_zi(Y, X, beta, gamma2, z, i, q, var, norm, k=k, T=T):\n",
    "    if z[i] == 0:\n",
    "        is0 = True\n",
    "        z[i] = 1\n",
    "    else:\n",
    "        is0 = False\n",
    "        z[i] = 0\n",
    "        \n",
    "    X_tilde, beta_tilde, W_tilde, Y_tilde, beta_tilde_hat, inverse_W_tilde = draw_tildes(Y, X, beta, gamma2, z)\n",
    "    false_var = (Y_tilde.T @ Y_tilde - beta_tilde_hat.T @ W_tilde @ beta_tilde_hat)\n",
    "    false_norm = norm_1(W_tilde)\n",
    "    \n",
    "    power_is0 = (-1) if is0 else 1\n",
    "    denominator = (1-q)/q * np.sqrt(gamma2) * (norm/false_norm) ** (power_is0 * 1/2) * (var/false_var) ** (power_is0 * T/2)\n",
    "    proba_success = 1 / (1 + denominator)\n",
    "    \n",
    "    return bernouilli(proba_success)"
   ]
  },
  {
   "cell_type": "raw",
   "id": "tropical-america",
   "metadata": {},
   "source": [
    "@njit(nogil=True, parallel=True)\n",
    "def draw_z(Y, X, beta, gamma2, z, q, k=k, T=T):\n",
    "    sampled_z = np.zeros(z.shape)\n",
    "    \n",
    "    X_tilde, beta_tilde, W_tilde, Y_tilde, beta_tilde_hat, inverse_W_tilde = draw_tildes(Y, X, beta, gamma2, z)\n",
    "    var = (Y_tilde.T @ Y_tilde - beta_tilde_hat.T @ W_tilde @ beta_tilde_hat)\n",
    "    norm = norm_1(W_tilde)\n",
    "    \n",
    "    for i in prange(len(z)):\n",
    "        z_copy = z.copy()\n",
    "        sampled_z[i] = draw_zi(Y, X, beta, gamma2, z_copy, i, q, var, norm, k=k, T=T)\n",
    "    return sampled_z"
   ]
  },
  {
   "cell_type": "code",
   "execution_count": 20,
   "id": "brazilian-folder",
   "metadata": {},
   "outputs": [],
   "source": [
    "@njit(nogil=True)\n",
    "def draw_z(Y, X, beta, gamma2, z, q, k=k, T=T):\n",
    "    u = np.random.uniform(0, 1, z.shape)\n",
    "    proba_success = 1 / (1 + (1-q)/q * np.sqrt(gamma2))\n",
    "    sampled_z = (u < q).astype(np.int16)\n",
    "    while np.count_nonzero(sampled_z) == 0:\n",
    "        u = np.random.uniform(0, 1, z.shape)\n",
    "        sampled_z = (u < q).astype(np.int16)\n",
    "    return sampled_z"
   ]
  },
  {
   "cell_type": "markdown",
   "id": "challenging-ordinance",
   "metadata": {},
   "source": [
    "### (IV). Draw from $\\sigma²$"
   ]
  },
  {
   "cell_type": "code",
   "execution_count": 21,
   "id": "nutritional-cherry",
   "metadata": {},
   "outputs": [],
   "source": [
    "import scipy.stats as stats"
   ]
  },
  {
   "cell_type": "code",
   "execution_count": 22,
   "id": "naked-ribbon",
   "metadata": {},
   "outputs": [],
   "source": [
    "@njit\n",
    "def var_sigma_squared(Y, X, beta, gamma2, z):\n",
    "    _, _, W_tilde, Y_tilde, beta_tilde_hat, _ = draw_tildes(Y, X, beta, gamma2, z)\n",
    "    variance = (1/2) * (Y_tilde.T @ Y_tilde - beta_tilde_hat.T @ W_tilde @ beta_tilde_hat)\n",
    "    return variance\n",
    "\n",
    "def draw_sigma(Y, X, beta, gamma2, z):\n",
    "    # X_tilde, beta_tilde, W_tilde, Y_tilde, beta_tilde_hat = draw_tildes(Y, X, beta, gamma2, z)\n",
    "    # variance = (1/2) * (Y_tilde.T @ Y_tilde - beta_tilde_hat.T @ W_tilde @ beta_tilde_hat)\n",
    "    variance = var_sigma_squared(Y, X, beta, gamma2, z)\n",
    "    return stats.invgamma.rvs(T/2, scale=variance)"
   ]
  },
  {
   "cell_type": "markdown",
   "id": "jewish-captain",
   "metadata": {},
   "source": [
    "### (V). Draw from $\\tilde{\\beta}$"
   ]
  },
  {
   "cell_type": "code",
   "execution_count": 23,
   "id": "constitutional-destruction",
   "metadata": {},
   "outputs": [],
   "source": [
    "def reconstruct_beta(beta_tilde, z, k=k):\n",
    "    reconstructed_beta = np.zeros(k)\n",
    "    reconstructed_beta[z != 0] = beta_tilde\n",
    "    return reconstructed_beta"
   ]
  },
  {
   "cell_type": "code",
   "execution_count": 24,
   "id": "choice-prince",
   "metadata": {},
   "outputs": [],
   "source": [
    "@njit\n",
    "def mean_var_beta_tilde(Y, X, beta, gamma2, z, sigma_squared):\n",
    "    X_tilde, beta_tilde, W_tilde, Y_tilde, beta_tilde_hat, inverse_W_tilde = draw_tildes(Y, X, beta, gamma2, z)\n",
    "    mean = beta_tilde_hat\n",
    "    variance = sigma_squared * inverse_W_tilde\n",
    "    return mean, variance\n",
    "\n",
    "def draw_beta_tilde(Y, X, beta, gamma2, z, sigma_squared):\n",
    "    # X_tilde, beta_tilde, W_tilde, Y_tilde, beta_tilde_hat = draw_tildes(Y, X, beta, gamma2, z)\n",
    "    # mean = inverse_matrix(W_tilde) @ X_tilde.T @ Y_tilde\n",
    "    # variance = sigma_squared * inverse_matrix(W_tilde)\n",
    "    mean, variance = mean_var_beta_tilde(Y, X, beta, gamma2, z, sigma_squared)\n",
    "    return np.random.multivariate_normal(mean, variance)"
   ]
  },
  {
   "cell_type": "markdown",
   "id": "valuable-recording",
   "metadata": {},
   "source": [
    "# 3. Gibbs Sampler"
   ]
  },
  {
   "cell_type": "code",
   "execution_count": 25,
   "id": "specified-scoop",
   "metadata": {},
   "outputs": [],
   "source": [
    "import multiprocessing\n",
    "from multiprocessing import Pool"
   ]
  },
  {
   "cell_type": "code",
   "execution_count": 26,
   "id": "accredited-paragraph",
   "metadata": {},
   "outputs": [
    {
     "name": "stdout",
     "output_type": "stream",
     "text": [
      "Nb CPU cores: 12\n"
     ]
    }
   ],
   "source": [
    "n_iter = 110_000\n",
    "burn_in = 10_000\n",
    "nb_cpu_cores = multiprocessing.cpu_count()\n",
    "print(f\"Nb CPU cores: {nb_cpu_cores}\")"
   ]
  },
  {
   "cell_type": "code",
   "execution_count": 27,
   "id": "rapid-worker",
   "metadata": {},
   "outputs": [],
   "source": [
    "def gibbs_sampler(Ry, s, n_iter=n_iter, burn_in=10_000, k=k, T=T, a=a, b=b, A=A, B=B, display_=False, nb_dataset=0):\n",
    "    print(f\"Computing n°{nb_dataset}, Ry: {Ry}, s: {s}\")\n",
    "    ### initialize dataset ###\n",
    "    q = draw_initial_q(a=a, b=b)\n",
    "    r2 = draw_initial_R2(A=A, B=B)\n",
    "    Y, X, beta, sigma_squared, z = draw_dataset(Ry, s, rho=rho, k=k, T=T)\n",
    "    v_x_bar = (1/k) * sum([np.var(x) for x in X])\n",
    "    gamma2 = compute_gamma2(X, r2, q, v_x_bar, k=k)\n",
    "    q_grid = np.concatenate((np.arange(0.001, 0.1, 0.001), np.arange(0.1, 0.9, 0.01), np.arange(0.9, 1, 0.001)))\n",
    "    \n",
    "    parameters = {}\n",
    "    parameters['sigma_squared'] = []\n",
    "    parameters['r2'] = []\n",
    "    parameters['q'] = []\n",
    "    \n",
    "    range_ = tqdm(range(n_iter)) if display_ else range(n_iter)\n",
    "    for i in range_:\n",
    "        r2, q = draw_r2(X, z, beta, sigma_squared, v_x_bar, q_grid)\n",
    "        z = draw_z(Y, X, beta, gamma2, z, q, k=k, T=T)\n",
    "        sigma_squared = draw_sigma(Y, X, beta, gamma2, z)\n",
    "        beta_tilde = draw_beta_tilde(Y, X, beta, gamma2, z, sigma_squared)\n",
    "\n",
    "        if i >= burn_in:\n",
    "            parameters['sigma_squared'].append(sigma_squared)\n",
    "            parameters['r2'].append(r2)\n",
    "            parameters['q'].append(q)\n",
    "        \n",
    "        # reconstruct beta from drawn beta_tilde and z\n",
    "        beta = reconstruct_beta(beta_tilde, z, k=k)\n",
    "        gamma2 = compute_gamma2(X, r2, q, v_x_bar, k=k)\n",
    "        \n",
    "    return parameters, beta"
   ]
  },
  {
   "cell_type": "markdown",
   "id": "careful-august",
   "metadata": {},
   "source": [
    "### Run Gibbs sampler for each dataset"
   ]
  },
  {
   "cell_type": "code",
   "execution_count": 28,
   "id": "strong-extraction",
   "metadata": {},
   "outputs": [
    {
     "name": "stdout",
     "output_type": "stream",
     "text": [
      "[(0.02, 5), (0.02, 10), (0.02, 100), (0.25, 5), (0.25, 10), (0.25, 100), (0.5, 5), (0.5, 10), (0.5, 100)]\n"
     ]
    }
   ],
   "source": [
    "all_values = []\n",
    "Ry_values = [0.02, 0.25, 0.5]\n",
    "s_values = [5, 10, 100]\n",
    "for Ry in Ry_values:\n",
    "    for s in s_values:\n",
    "        all_values.append((Ry, s))\n",
    "print(all_values)"
   ]
  },
  {
   "cell_type": "code",
   "execution_count": 29,
   "id": "nearby-superintendent",
   "metadata": {},
   "outputs": [],
   "source": [
    "RY = 2"
   ]
  },
  {
   "cell_type": "code",
   "execution_count": 30,
   "id": "failing-majority",
   "metadata": {},
   "outputs": [],
   "source": [
    "if RY == 1:\n",
    "    values = all_values[:3]\n",
    "    FILE_PATH = \"dicts/dict_results_Ry_002.pkl\"\n",
    "elif RY == 2:\n",
    "    values = all_values[3:6]\n",
    "    FILE_PATH = \"dicts/dict_results_Ry_025.pkl\"\n",
    "else:\n",
    "    values = all_values[6:]\n",
    "    FILE_PATH = \"dicts/dict_results_Ry_05.pkl\""
   ]
  },
  {
   "cell_type": "code",
   "execution_count": null,
   "id": "novel-vocabulary",
   "metadata": {},
   "outputs": [
    {
     "name": "stdout",
     "output_type": "stream",
     "text": [
      "Computing n°0, Ry: 0.25, s: 5\n"
     ]
    },
    {
     "name": "stderr",
     "output_type": "stream",
     "text": [
      " 23%|█████████████████▎                                                        | 25797/110000 [09:14<13:31, 103.82it/s]"
     ]
    }
   ],
   "source": [
    "for nb_dataset in range(20):\n",
    "    for Ry, s in values:\n",
    "        parameters, final_beta = gibbs_sampler(Ry, s, n_iter=n_iter, burn_in=burn_in, k=k, T=T, a=a, b=b, A=A, B=B, display_=True, nb_dataset=nb_dataset)\n",
    "        dict_results = load_dictionary()\n",
    "        dict_results[f\"{Ry}, {s}\"].append([parameters, final_beta])\n",
    "        save_dictionary(dict_results)"
   ]
  }
 ],
 "metadata": {
  "kernelspec": {
   "display_name": "Python 3",
   "language": "python",
   "name": "python3"
  },
  "language_info": {
   "codemirror_mode": {
    "name": "ipython",
    "version": 3
   },
   "file_extension": ".py",
   "mimetype": "text/x-python",
   "name": "python",
   "nbconvert_exporter": "python",
   "pygments_lexer": "ipython3",
   "version": "3.9.6"
  }
 },
 "nbformat": 4,
 "nbformat_minor": 5
}
