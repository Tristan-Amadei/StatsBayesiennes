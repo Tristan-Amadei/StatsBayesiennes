{
 "cells": [
  {
   "cell_type": "code",
   "execution_count": 1,
   "id": "understanding-geology",
   "metadata": {},
   "outputs": [],
   "source": [
    "import numpy as np"
   ]
  },
  {
   "cell_type": "markdown",
   "id": "velvet-color",
   "metadata": {},
   "source": [
    "# 1. Simulate data"
   ]
  },
  {
   "cell_type": "markdown",
   "id": "intended-covering",
   "metadata": {},
   "source": [
    "$$y_t = u'_t \\phi + x'_t \\beta + \\epsilon_t, \\epsilon_t \\stackrel{\\text{i.i.d}}{\\sim} \\mathcal{N}(0, \\sigma^{2}) $$\n",
    "In our case, as the dimension of U is l = 0, we have \n",
    "$$y_t = x'_t \\beta + \\epsilon_t, \\epsilon_t \\stackrel{\\text{i.i.d}}{\\sim} \\mathcal{N}(0, \\sigma^{2}) $$"
   ]
  },
  {
   "cell_type": "code",
   "execution_count": 2,
   "id": "apart-proxy",
   "metadata": {},
   "outputs": [],
   "source": [
    "l = 0\n",
    "k = 100\n",
    "T = 200"
   ]
  },
  {
   "cell_type": "code",
   "execution_count": 3,
   "id": "accessible-fraud",
   "metadata": {},
   "outputs": [],
   "source": [
    "a, b, A, B = 1, 1, 1, 1"
   ]
  },
  {
   "cell_type": "markdown",
   "id": "auburn-graham",
   "metadata": {},
   "source": [
    "### Draw initial $\\sigma²$"
   ]
  },
  {
   "cell_type": "code",
   "execution_count": 4,
   "id": "regulated-burton",
   "metadata": {},
   "outputs": [],
   "source": [
    "def draw_inital_sigma_squared(X, beta, Ry, T=T):\n",
    "    return ((1/Ry) - 1) * (1/T) * sum([(beta.T @ x)**2 for x in X])"
   ]
  },
  {
   "cell_type": "markdown",
   "id": "ruled-criticism",
   "metadata": {},
   "source": [
    "### Draw initial $\\beta$"
   ]
  },
  {
   "cell_type": "code",
   "execution_count": 5,
   "id": "every-convergence",
   "metadata": {},
   "outputs": [],
   "source": [
    "def draw_initial_beta(s, k=k):\n",
    "    beta = np.random.normal(size=k)\n",
    "    z = np.random.choice(range(k), size=k-s, replace=False)\n",
    "    beta[z] = 0\n",
    "    return beta, z"
   ]
  },
  {
   "cell_type": "markdown",
   "id": "multiple-example",
   "metadata": {},
   "source": [
    "### Simulate X"
   ]
  },
  {
   "cell_type": "code",
   "execution_count": 6,
   "id": "artificial-license",
   "metadata": {},
   "outputs": [],
   "source": [
    "from scipy.linalg import toeplitz"
   ]
  },
  {
   "cell_type": "code",
   "execution_count": 7,
   "id": "intelligent-audience",
   "metadata": {},
   "outputs": [],
   "source": [
    "rho = 0.75"
   ]
  },
  {
   "cell_type": "code",
   "execution_count": 8,
   "id": "individual-membrane",
   "metadata": {},
   "outputs": [],
   "source": [
    "def draw_X(rho=rho, k=k, T=T):\n",
    "    correlation_matrix = toeplitz(rho ** np.arange(0, k))\n",
    "    return np.random.multivariate_normal(np.zeros(k), correlation_matrix, size=T)"
   ]
  },
  {
   "cell_type": "markdown",
   "id": "thick-colony",
   "metadata": {},
   "source": [
    "### Simulate Y"
   ]
  },
  {
   "cell_type": "code",
   "execution_count": 9,
   "id": "peaceful-brazil",
   "metadata": {},
   "outputs": [],
   "source": [
    "def draw_Y(X, beta, sigma_squared):\n",
    "    return X @ beta + np.random.normal(0, sigma_squared, size=(X @ beta).shape[0])"
   ]
  },
  {
   "cell_type": "code",
   "execution_count": 10,
   "id": "perceived-piano",
   "metadata": {},
   "outputs": [],
   "source": [
    "def draw_dataset(Ry, s, rho=rho, k=k, T=T):\n",
    "    X = draw_X()\n",
    "    beta, z = draw_initial_beta(s, k=k)\n",
    "    sigma_squared = draw_inital_sigma_squared(X, beta, Ry, T=T)\n",
    "    Y = draw_Y(X, beta, sigma_squared)\n",
    "    return Y, X, beta, sigma_squared, z"
   ]
  },
  {
   "cell_type": "markdown",
   "id": "front-christian",
   "metadata": {},
   "source": [
    "# 2. Draw from posteriors"
   ]
  },
  {
   "cell_type": "code",
   "execution_count": 11,
   "id": "sorted-hazard",
   "metadata": {},
   "outputs": [],
   "source": [
    "def inverse_matrix(A):\n",
    "    try:\n",
    "        return np.linalg.solve(A, np.eye(A.shape[0]))\n",
    "    except:\n",
    "        return A"
   ]
  },
  {
   "cell_type": "code",
   "execution_count": 15,
   "id": "coordinate-operations",
   "metadata": {},
   "outputs": [],
   "source": [
    "def draw_tildes(Y, X, beta, gamma, z):\n",
    "    X_tilde = X[:, z != 0]\n",
    "    beta_tilde = beta[z != 0]\n",
    "    W_tilde = X_tilde.T @ X_tilde + (1/gamma**2) * np.eye(np.sum(z))\n",
    "    Y_tilde = Y \n",
    "    beta_tilde_hat = inverse_matrix(W_tilde) @ X_tilde.T @ Y_tilde\n",
    "    return X_tilde, beta_tilde, W_tilde, Y_tilde, beta_tilde_hat"
   ]
  },
  {
   "cell_type": "markdown",
   "id": "convenient-wrong",
   "metadata": {},
   "source": [
    "### (I). Draw from $R²$"
   ]
  },
  {
   "cell_type": "code",
   "execution_count": null,
   "id": "demanding-newark",
   "metadata": {},
   "outputs": [],
   "source": [
    "def draw_r2(X, z, beta, sigma_squared, k=k, a=a, b=b, A=A, B=B):\n",
    "    s_z = np.sum(z)\n",
    "    v_x_bar = (1/k) * sum([np.var(x) for x in X])\n",
    "    grid = np.concatenate((np.arange(0, 0.1, 0.001), np.arange(0.1, 0.9, 0.01), np.arange(0.9, 1.001, 0.001)))\n",
    "    unnormalized_posterior = np.zeros((len(grid), len(grid)))\n",
    "    \n",
    "    for i in range(len(grid)):\n",
    "        for j in range(len(grid)):\n",
    "            q = grid[i]\n",
    "            r2 = grid[j]\n",
    "            \n",
    "            exp_term = np.exp((-1/(2*sigma_squared)) * ((k * v_x_bar * q * (1 - r2)) / r2) * (beta.T @ np.diag(z) @ beta))\n",
    "            q_term = q ** (s_z + s_z/2 + a - 1) * (1-q) ** (k - s_z + b - 1)\n",
    "            r2_term = r2 ** (A - 1 - s_z/2) ** (1-r2) ** (s_z/2 + B - 1)\n",
    "            unnormalized_posterior[i, j] = exp_term * q_term * r2_term\n",
    "    \n",
    "    # normalize the posterior\n",
    "    normalized_posterior /= np.sum(unnormalized_posterior)\n",
    "    \n",
    "    # Draw samples from the normalized posterior\n",
    "    i, j = np.random.multinomial(1, normalized_posterior.flatten(), size=2)\n",
    "    i, j = np.argmax(i), np.argmax(j)\n",
    "    q = grid[i]\n",
    "    r2 = grid[j]\n",
    "    return r2, q"
   ]
  },
  {
   "cell_type": "markdown",
   "id": "appreciated-disease",
   "metadata": {},
   "source": [
    "### (III). Draw from z"
   ]
  },
  {
   "cell_type": "code",
   "execution_count": null,
   "id": "crucial-favorite",
   "metadata": {},
   "outputs": [],
   "source": [
    "def draw"
   ]
  },
  {
   "cell_type": "markdown",
   "id": "latest-trial",
   "metadata": {},
   "source": [
    "### (IV). Draw from $\\sigma²$"
   ]
  },
  {
   "cell_type": "code",
   "execution_count": 11,
   "id": "annoying-participation",
   "metadata": {},
   "outputs": [],
   "source": [
    "import scipy.stats as stats"
   ]
  },
  {
   "cell_type": "code",
   "execution_count": 12,
   "id": "martial-authorization",
   "metadata": {},
   "outputs": [],
   "source": [
    "def draw_sigma(Y, X, beta, gamma, z):\n",
    "    X_tilde, beta_tilde, W_tilde, Y_tilde, beta_tilde_hat = draw_tildes(Y, X, beta, gamma, z)\n",
    "    variance = (1/2) * (Y_tilde.T @ Y_tilde - beta_tilde_hat.T @ W_tilde @ beta_tilde_hat)\n",
    "    return stats.invgamma.rvs(T/2, variance, size=1)"
   ]
  },
  {
   "cell_type": "markdown",
   "id": "biological-pledge",
   "metadata": {},
   "source": [
    "### (V). Draw from $\\tilde{\\beta}$"
   ]
  },
  {
   "cell_type": "code",
   "execution_count": 13,
   "id": "appointed-mistress",
   "metadata": {},
   "outputs": [],
   "source": [
    "def draw_beta_tilde(Y, U, X, phi, beta, gamma, z, sigma_squared):\n",
    "    X_tilde, beta_tilde, W_tilde, Y_tilde, beta_tilde_hat = draw_tildes(Y, U, X, phi, beta, gamma, z)\n",
    "    mean = inverse_matrix(W_tilde) @ X_tilde.T @ Y_tilde\n",
    "    variance = sigma_squared * inverse_matrix(W_tilde)\n",
    "    return np.random.multivariate_normal(mean, variance, size=X_tilde.shape[1])"
   ]
  },
  {
   "cell_type": "code",
   "execution_count": null,
   "id": "pregnant-reviewer",
   "metadata": {},
   "outputs": [],
   "source": []
  },
  {
   "cell_type": "code",
   "execution_count": 94,
   "id": "productive-conditioning",
   "metadata": {},
   "outputs": [
    {
     "data": {
      "text/plain": [
       "(3, 2)"
      ]
     },
     "execution_count": 94,
     "metadata": {},
     "output_type": "execute_result"
    }
   ],
   "source": [
    "import numpy as np\n",
    "\n",
    "# Create a 2D array of probabilities\n",
    "pvals = np.array([[0.2, 0.3, 0.5], [0.4, 0.3, 0.3]])\n",
    "pvals /= np.sum(pvals)\n",
    "\n",
    "# Draw 10 samples from the multinomial distribution\n",
    "a, b = np.random.multinomial(1, pvals.flatten(), size=2)\n",
    "a = np.argmax(a)\n",
    "b = np.argmax(b)\n",
    "a, b"
   ]
  },
  {
   "cell_type": "code",
   "execution_count": null,
   "id": "whole-victory",
   "metadata": {},
   "outputs": [],
   "source": []
  },
  {
   "cell_type": "code",
   "execution_count": null,
   "id": "flying-department",
   "metadata": {},
   "outputs": [],
   "source": []
  }
 ],
 "metadata": {
  "kernelspec": {
   "display_name": "Python 3",
   "language": "python",
   "name": "python3"
  },
  "language_info": {
   "codemirror_mode": {
    "name": "ipython",
    "version": 3
   },
   "file_extension": ".py",
   "mimetype": "text/x-python",
   "name": "python",
   "nbconvert_exporter": "python",
   "pygments_lexer": "ipython3",
   "version": "3.9.6"
  }
 },
 "nbformat": 4,
 "nbformat_minor": 5
}
