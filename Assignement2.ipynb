{
 "cells": [
  {
   "cell_type": "code",
   "execution_count": 1,
   "id": "standing-shoot",
   "metadata": {},
   "outputs": [],
   "source": [
    "import numpy as np\n",
    "from tqdm import tqdm\n",
    "import matplotlib.pyplot as plt\n",
    "from numba import njit, prange\n",
    "import time"
   ]
  },
  {
   "cell_type": "markdown",
   "id": "automated-exception",
   "metadata": {},
   "source": [
    "# Save results on S3"
   ]
  },
  {
   "cell_type": "raw",
   "id": "distant-scheduling",
   "metadata": {},
   "source": [
    "import os\n",
    "import s3fs\n",
    "import pickle \n",
    "\n",
    "# Create filesystem object\n",
    "S3_ENDPOINT_URL = \"https://\" + os.environ[\"AWS_S3_ENDPOINT\"]\n",
    "fs = s3fs.S3FileSystem(client_kwargs={'endpoint_url': S3_ENDPOINT_URL})\n",
    "BUCKET = \"tamadei/StatsBayes\"\n",
    "FILE_KEY_S3 = \"dict_results.pkl\"\n",
    "FILE_PATH_S3 = BUCKET + \"/\" + FILE_KEY_S3\n",
    "\n",
    "def save_dictionary(dict_):\n",
    "    with fs.open(FILE_PATH_S3, 'wb') as f:\n",
    "        pickle.dump(dict_, f)\n",
    "\n",
    "def load_dictionary():\n",
    "    with fs.open(FILE_PATH_S3, 'rb') as f:\n",
    "        loaded_dict = pickle.load(f)\n",
    "    return loaded_dict"
   ]
  },
  {
   "cell_type": "markdown",
   "id": "front-stadium",
   "metadata": {},
   "source": [
    "# 1. Simulate data"
   ]
  },
  {
   "cell_type": "markdown",
   "id": "extended-writing",
   "metadata": {},
   "source": [
    "$$y_t = u'_t \\phi + x'_t \\beta + \\epsilon_t, \\epsilon_t \\stackrel{\\text{i.i.d}}{\\sim} \\mathcal{N}(0, \\sigma^{2}) $$\n",
    "In our case, as the dimension of U is l = 0, we have \n",
    "$$y_t = x'_t \\beta + \\epsilon_t, \\epsilon_t \\stackrel{\\text{i.i.d}}{\\sim} \\mathcal{N}(0, \\sigma^{2}) $$"
   ]
  },
  {
   "cell_type": "code",
   "execution_count": 2,
   "id": "convinced-romania",
   "metadata": {},
   "outputs": [],
   "source": [
    "l = 0\n",
    "k = 100\n",
    "T = 200"
   ]
  },
  {
   "cell_type": "code",
   "execution_count": 3,
   "id": "suspected-recorder",
   "metadata": {},
   "outputs": [],
   "source": [
    "a, b, A, B = 1, 1, 1, 1"
   ]
  },
  {
   "cell_type": "markdown",
   "id": "vertical-sapphire",
   "metadata": {},
   "source": [
    "### Draw initial q"
   ]
  },
  {
   "cell_type": "code",
   "execution_count": 4,
   "id": "written-concept",
   "metadata": {},
   "outputs": [],
   "source": [
    "def draw_initial_q(a=a, b=b):\n",
    "    return np.random.beta(a, b)"
   ]
  },
  {
   "cell_type": "markdown",
   "id": "seeing-emperor",
   "metadata": {},
   "source": [
    "### Draw initial $R²$"
   ]
  },
  {
   "cell_type": "code",
   "execution_count": 5,
   "id": "stock-force",
   "metadata": {},
   "outputs": [],
   "source": [
    "def draw_initial_R2(A=A, B=B):\n",
    "    return np.random.beta(A, B)"
   ]
  },
  {
   "cell_type": "markdown",
   "id": "offensive-series",
   "metadata": {},
   "source": [
    "### Compute initial $\\gamma^2$"
   ]
  },
  {
   "cell_type": "code",
   "execution_count": 6,
   "id": "becoming-center",
   "metadata": {},
   "outputs": [],
   "source": [
    "@njit\n",
    "def compute_gamma2(X, r2, q, v_x_bar, k=k):\n",
    "    denominator = q * k * v_x_bar * (1-r2)\n",
    "    return r2 / denominator"
   ]
  },
  {
   "cell_type": "markdown",
   "id": "disciplinary-railway",
   "metadata": {},
   "source": [
    "### Draw initial $\\sigma²$"
   ]
  },
  {
   "cell_type": "code",
   "execution_count": 7,
   "id": "sound-action",
   "metadata": {},
   "outputs": [],
   "source": [
    "def draw_inital_sigma_squared(X, beta, Ry, T=T):\n",
    "    return ((1/Ry) - 1) * (1/T) * sum([(beta.T @ x)**2 for x in X])"
   ]
  },
  {
   "cell_type": "markdown",
   "id": "black-grant",
   "metadata": {},
   "source": [
    "### Draw initial $\\beta$"
   ]
  },
  {
   "cell_type": "code",
   "execution_count": 8,
   "id": "indirect-surname",
   "metadata": {},
   "outputs": [],
   "source": [
    "def draw_initial_beta(s, k=k):\n",
    "    beta = np.random.normal(size=k)\n",
    "    indices_null = np.random.choice(range(k), size=k-s, replace=False)\n",
    "    beta[indices_null] = 0\n",
    "    z = np.ones(k)\n",
    "    z[indices_null] = 0\n",
    "    return beta, z"
   ]
  },
  {
   "cell_type": "markdown",
   "id": "based-recording",
   "metadata": {},
   "source": [
    "### Simulate X"
   ]
  },
  {
   "cell_type": "code",
   "execution_count": 9,
   "id": "convertible-shirt",
   "metadata": {},
   "outputs": [],
   "source": [
    "from scipy.linalg import toeplitz"
   ]
  },
  {
   "cell_type": "code",
   "execution_count": 10,
   "id": "administrative-ontario",
   "metadata": {},
   "outputs": [],
   "source": [
    "rho = 0.75"
   ]
  },
  {
   "cell_type": "code",
   "execution_count": 11,
   "id": "fresh-victorian",
   "metadata": {},
   "outputs": [],
   "source": [
    "def draw_X(rho=rho, k=k, T=T):\n",
    "    correlation_matrix = toeplitz(rho ** np.arange(0, k))\n",
    "    X = np.random.multivariate_normal(np.zeros(k), correlation_matrix, size=T)\n",
    "    for i in range(len(X)):\n",
    "        X[i] = (X[i] - X[i].mean()) / np.std(X[i])\n",
    "    return X"
   ]
  },
  {
   "cell_type": "markdown",
   "id": "frank-thursday",
   "metadata": {},
   "source": [
    "### Simulate Y"
   ]
  },
  {
   "cell_type": "code",
   "execution_count": 12,
   "id": "loaded-hybrid",
   "metadata": {},
   "outputs": [],
   "source": [
    "def draw_Y(X, beta, sigma_squared):\n",
    "    return X @ beta + np.random.normal(0, sigma_squared, size=(X @ beta).shape[0])"
   ]
  },
  {
   "cell_type": "code",
   "execution_count": 13,
   "id": "rental-disposition",
   "metadata": {},
   "outputs": [],
   "source": [
    "def draw_dataset(Ry, s, rho=rho, k=k, T=T):\n",
    "    X = draw_X()\n",
    "    beta, z = draw_initial_beta(s, k=k)\n",
    "    sigma_squared = draw_inital_sigma_squared(X, beta, Ry, T=T)\n",
    "    Y = draw_Y(X, beta, sigma_squared)\n",
    "    return Y, X, beta, sigma_squared, z"
   ]
  },
  {
   "cell_type": "markdown",
   "id": "about-motel",
   "metadata": {},
   "source": [
    "# 2. Draw from posteriors"
   ]
  },
  {
   "cell_type": "code",
   "execution_count": 14,
   "id": "organized-trade",
   "metadata": {},
   "outputs": [],
   "source": [
    "# def inverse_matrix(A):\n",
    "#     try:\n",
    "#         return np.linalg.solve(A, np.eye(A.shape[0]))\n",
    "#     except:\n",
    "#         return A\n",
    "@njit(nogil=True)\n",
    "def inverse_matrix(A):\n",
    "    return np.linalg.inv(A)"
   ]
  },
  {
   "cell_type": "code",
   "execution_count": 15,
   "id": "turkish-speaker",
   "metadata": {},
   "outputs": [],
   "source": [
    "@njit(nogil=True)\n",
    "def draw_tildes(Y, X, beta, gamma2, z):\n",
    "    X_tilde = X[:, z != 0]\n",
    "    beta_tilde = beta[z != 0]\n",
    "    W_tilde = X_tilde.T @ X_tilde + (1/gamma2) * np.eye(int(np.sum(z)))\n",
    "    Y_tilde = Y \n",
    "    inverse_W_tilde = inverse_matrix(W_tilde)\n",
    "    beta_tilde_hat = inverse_W_tilde @ X_tilde.T @ Y_tilde\n",
    "    return X_tilde, beta_tilde, W_tilde, Y_tilde, beta_tilde_hat, inverse_W_tilde"
   ]
  },
  {
   "cell_type": "markdown",
   "id": "unsigned-adrian",
   "metadata": {},
   "source": [
    "### (I). Draw from $R²$"
   ]
  },
  {
   "cell_type": "code",
   "execution_count": 16,
   "id": "rubber-worth",
   "metadata": {},
   "outputs": [],
   "source": [
    "@njit(nogil=True, parallel=True)\n",
    "def draw_r2(X, z, beta, sigma_squared, v_x_bar, q_grid):\n",
    "    s_z = np.sum(z)\n",
    "    r2_grid = q_grid\n",
    "    posterior = np.zeros((len(q_grid), len(r2_grid)))\n",
    "    \n",
    "    #beta_term = (beta.T @ np.diag(z) @ beta)\n",
    "    beta_term = np.dot(np.dot(beta.T.astype(np.float64), np.diag(z).astype(np.float64)), beta.astype(np.float64))\n",
    "    sum_posterior = 0\n",
    "    \n",
    "    for i in prange(len(q_grid)):\n",
    "        q_loop = q_grid[i]\n",
    "        q_term = q_loop ** (s_z + s_z/2 + a - 1) * (1-q_loop) ** (k - s_z + b - 1)\n",
    "        \n",
    "        for j in range(len(r2_grid)):\n",
    "            r2_loop = r2_grid[j]\n",
    "            \n",
    "            exp_term = np.exp((-1/(2*sigma_squared)) * ((k * v_x_bar * q_loop * (1 - r2_loop)) / r2_loop) * beta_term)\n",
    "            r2_term = r2_loop ** (A - 1 - s_z/2) * (1-r2_loop) ** (s_z/2 + B - 1)\n",
    "            posterior[i, j] = exp_term * q_term * r2_term\n",
    "            sum_posterior += posterior[i, j]\n",
    "    \n",
    "    # normalize the posterior\n",
    "    posterior = posterior.flatten() / sum_posterior\n",
    "    x = np.argmax(np.random.multinomial(1, posterior))\n",
    "    i, j = x // len(q_grid), x % len(r2_grid)\n",
    "    sampled_q = q_grid[i]\n",
    "    sampled_r2 = r2_grid[j]\n",
    "    return sampled_r2, sampled_q"
   ]
  },
  {
   "cell_type": "code",
   "execution_count": 30,
   "id": "d6ee1d85-4464-4c47-b31e-c3b0b80f70c3",
   "metadata": {},
   "outputs": [],
   "source": [
    "@njit\n",
    "def draw_r2_np_gpt(X, z, beta, sigma_squared, v_x_bar, q_grid):\n",
    "    s_z = np.sum(z)\n",
    "    r2_grid = q_grid\n",
    "    posterior = np.zeros((len(q_grid), len(r2_grid)))\n",
    "\n",
    "    #beta_term = (beta.T @ np.diag(z) @ beta)\n",
    "    beta_term = np.dot(np.dot(beta.T.astype(np.float64), np.diag(z).astype(np.float64)), beta.astype(np.float64))\n",
    "\n",
    "    q_term = q_grid ** (s_z + s_z/2 + a - 1) * (1 - q_grid) ** (k - s_z + b - 1)\n",
    "\n",
    "    for j, r2_loop in enumerate(r2_grid):\n",
    "        exp_term = np.exp((-1/(2*sigma_squared)) * ((k * v_x_bar * q_grid * (1 - r2_loop)) / r2_loop) * beta_term)\n",
    "        r2_term = r2_loop ** (A - 1 - s_z/2) * (1 - r2_loop) ** (s_z/2 + B - 1)\n",
    "        posterior[:, j] = exp_term * q_term * r2_term\n",
    "\n",
    "    # normalize the posterior\n",
    "    posterior = posterior.flatten() / posterior.sum()\n",
    "    x = np.argmax(np.random.multinomial(1, posterior))\n",
    "    i, j = x // len(q_grid), x % len(r2_grid)\n",
    "    sampled_q = q_grid[i]\n",
    "    sampled_r2 = r2_grid[j]\n",
    "    return sampled_r2, sampled_q, posterior"
   ]
  },
  {
   "cell_type": "code",
   "execution_count": 40,
   "id": "cb54cb91-3a39-4bc4-ac8c-d5fc6bda0377",
   "metadata": {},
   "outputs": [],
   "source": [
    "def draw_r2_full(X, z, beta, sigma_squared, v_x_bar, q_grid):\n",
    "    s_z = np.sum(z)\n",
    "    r2_grid = q_grid\n",
    "    posterior = np.zeros((len(q_grid), len(r2_grid)))\n",
    "\n",
    "    #beta_term = (beta.T @ np.diag(z) @ beta)\n",
    "    beta_term = np.dot(np.dot(beta.T.astype(np.float64), np.diag(z).astype(np.float64)), beta.astype(np.float64))\n",
    "\n",
    "    q_term = q_grid ** (s_z + s_z/2 + a - 1) * (1 - q_grid) ** (k - s_z + b - 1)\n",
    "\n",
    "    r2_term = r2_grid[:, np.newaxis] ** (A - 1 - s_z/2) * (1 - r2_grid[:, np.newaxis]) ** (s_z/2 + B - 1)\n",
    "\n",
    "    exp_term = np.exp((-1/(2*sigma_squared)) * ((k * v_x_bar * q_grid * (1 - r2_grid[:, np.newaxis])) / r2_grid[:, np.newaxis]) * beta_term)\n",
    "\n",
    "    posterior = exp_term * q_term * r2_term\n",
    "    posterior = posterior.flatten() / posterior.sum()\n",
    "    return posterior"
   ]
  },
  {
   "cell_type": "code",
   "execution_count": 45,
   "id": "208efb5b-2d94-4bb7-b271-dfa1066c33e4",
   "metadata": {},
   "outputs": [
    {
     "name": "stdout",
     "output_type": "stream",
     "text": [
      "4.83 ms ± 338 µs per loop (mean ± std. dev. of 7 runs, 100 loops each)\n"
     ]
    }
   ],
   "source": [
    "%timeit draw_r2_np_gpt(X, z, beta, sigma_squared, v_x_bar, q_grid)"
   ]
  },
  {
   "cell_type": "code",
   "execution_count": 43,
   "id": "77f86739-babe-4f3a-b29d-bcb2096dd4cb",
   "metadata": {},
   "outputs": [
    {
     "name": "stdout",
     "output_type": "stream",
     "text": [
      "1.37 ms ± 170 µs per loop (mean ± std. dev. of 7 runs, 1,000 loops each)\n"
     ]
    }
   ],
   "source": [
    "%timeit draw_r2_full(X, z, beta, sigma_squared, v_x_bar, q_grid)"
   ]
  },
  {
   "cell_type": "code",
   "execution_count": 28,
   "id": "a5057aab-5aee-40d9-9afe-b9dcc8dec805",
   "metadata": {},
   "outputs": [
    {
     "data": {
      "text/plain": [
       "(0.5399999999999998, 0.095)"
      ]
     },
     "execution_count": 28,
     "metadata": {},
     "output_type": "execute_result"
    }
   ],
   "source": [
    "draw_r2_np_gpt(X, z, beta, sigma_squared, v_x_bar, q_grid)"
   ]
  },
  {
   "cell_type": "code",
   "execution_count": 29,
   "id": "bd7196a2-1785-4cb8-8bb9-d765e165e6ea",
   "metadata": {},
   "outputs": [
    {
     "name": "stdout",
     "output_type": "stream",
     "text": [
      "4.94 ms ± 400 µs per loop (mean ± std. dev. of 7 runs, 100 loops each)\n"
     ]
    }
   ],
   "source": [
    "%timeit draw_r2_np_gpt(X, z, beta, sigma_squared, v_x_bar, q_grid)"
   ]
  },
  {
   "cell_type": "markdown",
   "id": "ongoing-glance",
   "metadata": {},
   "source": [
    "### (III). Draw from z"
   ]
  },
  {
   "cell_type": "code",
   "execution_count": 17,
   "id": "floral-subdivision",
   "metadata": {},
   "outputs": [],
   "source": [
    "import scipy.special as sp"
   ]
  },
  {
   "cell_type": "code",
   "execution_count": 18,
   "id": "iraqi-queue",
   "metadata": {},
   "outputs": [],
   "source": [
    "@njit\n",
    "def norm_1(matrix):\n",
    "    norm_1 = np.sum(np.abs(matrix), axis=0).max()\n",
    "    return norm_1\n",
    "\n",
    "@njit\n",
    "def bernouilli(q):\n",
    "    u = np.random.uniform(0, 1)\n",
    "    return 1 if u < q else 0"
   ]
  },
  {
   "cell_type": "code",
   "execution_count": 19,
   "id": "eligible-recruitment",
   "metadata": {},
   "outputs": [],
   "source": [
    "@njit\n",
    "def draw_zi(Y, X, beta, gamma2, z, i, q, var, norm, k=k, T=T):\n",
    "    if z[i] == 0:\n",
    "        is0 = True\n",
    "        z[i] = 1\n",
    "    else:\n",
    "        is0 = False\n",
    "        z[i] = 0\n",
    "        \n",
    "    X_tilde, beta_tilde, W_tilde, Y_tilde, beta_tilde_hat, inverse_W_tilde = draw_tildes(Y, X, beta, gamma2, z)\n",
    "    false_var = (Y_tilde.T @ Y_tilde - beta_tilde_hat.T @ W_tilde @ beta_tilde_hat)\n",
    "    false_norm = norm_1(W_tilde)\n",
    "    \n",
    "    power_is0 = (-1) if is0 else 1\n",
    "    denominator = (1-q)/q * np.sqrt(gamma2) * (norm/false_norm) ** (power_is0 * 1/2) * (var/false_var) ** (power_is0 * T/2)\n",
    "    proba_success = 1 / (1 + denominator)\n",
    "    \n",
    "    return bernouilli(proba_success)"
   ]
  },
  {
   "cell_type": "code",
   "execution_count": 20,
   "id": "large-reconstruction",
   "metadata": {},
   "outputs": [],
   "source": [
    "@njit(nogil=True, parallel=True)\n",
    "def draw_z(Y, X, beta, gamma2, z, q, k=k, T=T):\n",
    "    sampled_z = np.zeros(z.shape)\n",
    "    \n",
    "    X_tilde, beta_tilde, W_tilde, Y_tilde, beta_tilde_hat, inverse_W_tilde = draw_tildes(Y, X, beta, gamma2, z)\n",
    "    var = (Y_tilde.T @ Y_tilde - beta_tilde_hat.T @ W_tilde @ beta_tilde_hat)\n",
    "    norm = norm_1(W_tilde)\n",
    "    \n",
    "    for i in prange(len(z)):\n",
    "        z_copy = z.copy()\n",
    "        sampled_z[i] = draw_zi(Y, X, beta, gamma2, z_copy, i, q, var, norm, k=k, T=T)\n",
    "    return sampled_z"
   ]
  },
  {
   "cell_type": "raw",
   "id": "weekly-semiconductor",
   "metadata": {},
   "source": [
    "@njit(nogil=True)\n",
    "def draw_z(Y, X, beta, gamma2, z, q, k=k, T=T):\n",
    "    u = np.random.uniform(0, 1, z.shape)\n",
    "    sampled_z = (u < q).astype(np.int16)\n",
    "    while np.count_nonzero(sampled_z) == 0:\n",
    "        u = np.random.uniform(0, 1, z.shape)\n",
    "        sampled_z = (u < q).astype(np.int16)\n",
    "    return sampled_z"
   ]
  },
  {
   "cell_type": "markdown",
   "id": "removed-evans",
   "metadata": {},
   "source": [
    "### (IV). Draw from $\\sigma²$"
   ]
  },
  {
   "cell_type": "code",
   "execution_count": 21,
   "id": "metric-murder",
   "metadata": {},
   "outputs": [],
   "source": [
    "import scipy.stats as stats"
   ]
  },
  {
   "cell_type": "code",
   "execution_count": 22,
   "id": "organizational-tender",
   "metadata": {},
   "outputs": [],
   "source": [
    "@njit\n",
    "def var_sigma_squared(Y, X, beta, gamma2, z):\n",
    "    X_tilde, beta_tilde, W_tilde, Y_tilde, beta_tilde_hat, inverse_W_tilde = draw_tildes(Y, X, beta, gamma2, z)\n",
    "    variance = (1/2) * (Y_tilde.T @ Y_tilde - beta_tilde_hat.T @ W_tilde @ beta_tilde_hat)\n",
    "    return variance\n",
    "\n",
    "def draw_sigma(Y, X, beta, gamma2, z):\n",
    "    # X_tilde, beta_tilde, W_tilde, Y_tilde, beta_tilde_hat = draw_tildes(Y, X, beta, gamma2, z)\n",
    "    # variance = (1/2) * (Y_tilde.T @ Y_tilde - beta_tilde_hat.T @ W_tilde @ beta_tilde_hat)\n",
    "    variance = var_sigma_squared(Y, X, beta, gamma2, z)\n",
    "    return stats.invgamma.rvs(T/2, variance)"
   ]
  },
  {
   "cell_type": "markdown",
   "id": "opponent-county",
   "metadata": {},
   "source": [
    "### (V). Draw from $\\tilde{\\beta}$"
   ]
  },
  {
   "cell_type": "code",
   "execution_count": 23,
   "id": "loving-diamond",
   "metadata": {},
   "outputs": [],
   "source": [
    "def reconstruct_beta(beta_tilde, z, k=k):\n",
    "    reconstructed_beta = np.zeros(k)\n",
    "    reconstructed_beta[z != 0] = beta_tilde\n",
    "    return reconstructed_beta"
   ]
  },
  {
   "cell_type": "code",
   "execution_count": 24,
   "id": "confident-venezuela",
   "metadata": {},
   "outputs": [],
   "source": [
    "@njit\n",
    "def mean_var_beta_tilde(Y, X, beta, gamma2, z, sigma_squared):\n",
    "    X_tilde, beta_tilde, W_tilde, Y_tilde, beta_tilde_hat, inverse_W_tilde = draw_tildes(Y, X, beta, gamma2, z)\n",
    "    mean = beta_tilde_hat\n",
    "    variance = sigma_squared * inverse_W_tilde\n",
    "    return mean, variance\n",
    "\n",
    "def draw_beta_tilde(Y, X, beta, gamma2, z, sigma_squared):\n",
    "    # X_tilde, beta_tilde, W_tilde, Y_tilde, beta_tilde_hat = draw_tildes(Y, X, beta, gamma2, z)\n",
    "    # mean = inverse_matrix(W_tilde) @ X_tilde.T @ Y_tilde\n",
    "    # variance = sigma_squared * inverse_matrix(W_tilde)\n",
    "    mean, variance = mean_var_beta_tilde(Y, X, beta, gamma2, z, sigma_squared)\n",
    "    return np.random.multivariate_normal(mean, variance)"
   ]
  },
  {
   "cell_type": "markdown",
   "id": "exclusive-humor",
   "metadata": {},
   "source": [
    "# 3. Gibbs Sampler"
   ]
  },
  {
   "cell_type": "code",
   "execution_count": 25,
   "id": "upset-niagara",
   "metadata": {},
   "outputs": [],
   "source": [
    "import multiprocessing\n",
    "from multiprocessing import Pool"
   ]
  },
  {
   "cell_type": "code",
   "execution_count": 26,
   "id": "enormous-skill",
   "metadata": {},
   "outputs": [
    {
     "name": "stdout",
     "output_type": "stream",
     "text": [
      "Nb CPU cores: 72\n"
     ]
    }
   ],
   "source": [
    "n_iter = 110_000\n",
    "burn_in = 10_000\n",
    "nb_cpu_cores = multiprocessing.cpu_count()\n",
    "print(f\"Nb CPU cores: {nb_cpu_cores}\")"
   ]
  },
  {
   "cell_type": "code",
   "execution_count": 46,
   "id": "intense-agreement",
   "metadata": {},
   "outputs": [],
   "source": [
    "def gibbs_sampler(Ry, s, n_iter=n_iter, burn_in=10_000, k=k, T=T, a=a, b=b, A=A, B=B, display_=False):\n",
    "    print(Ry, s)\n",
    "    ### initialize dataset ###\n",
    "    q = draw_initial_q(a=a, b=b)\n",
    "    r2 = draw_initial_R2(A=A, B=B)\n",
    "    Y, X, beta, sigma_squared, z = draw_dataset(Ry, s, rho=rho, k=k, T=T)\n",
    "    v_x_bar = (1/k) * sum([np.var(x) for x in X])\n",
    "    gamma2 = compute_gamma2(X, r2, q, v_x_bar, k=k)\n",
    "    q_grid = np.concatenate((np.arange(0.001, 0.1, 0.001), np.arange(0.1, 0.9, 0.01), np.arange(0.9, 1, 0.001)))\n",
    "    \n",
    "    parameters = {}\n",
    "    parameters['sigma_squared'] = []\n",
    "    parameters['r2'] = []\n",
    "    parameters['q'] = []\n",
    "    \n",
    "    times = {}\n",
    "    times['r2'] = []\n",
    "    times['z'] = []\n",
    "    times['sigma'] = []\n",
    "    times['beta_tilde'] = []\n",
    "    times['beta'] = []\n",
    "    times['gamma'] = []\n",
    "    \n",
    "    range_ = tqdm(range(n_iter)) if display_ else range(n_iter)\n",
    "    for i in range_:\n",
    "        t1 = time.time()\n",
    "        r2, q = draw_r2(X, z, beta, sigma_squared, v_x_bar, q_grid)\n",
    "        t2 = time.time()\n",
    "        z = draw_z(Y, X, beta, gamma2, z, q, k=k, T=T)\n",
    "        t3 = time.time()\n",
    "        sigma_squared = draw_sigma(Y, X, beta, gamma2, z)\n",
    "        t4 = time.time()\n",
    "        beta_tilde = draw_beta_tilde(Y, X, beta, gamma2, z, sigma_squared)\n",
    "        t5 = time.time()\n",
    "\n",
    "        if i >= burn_in:\n",
    "            parameters['sigma_squared'].append(sigma_squared)\n",
    "            parameters['r2'].append(r2)\n",
    "            parameters['q'].append(q)\n",
    "        \n",
    "        # reconstruct beta from drawn beta_tilde and z\n",
    "        t6 = time.time()\n",
    "        beta = reconstruct_beta(beta_tilde, z, k=k)\n",
    "        t7 = time.time()\n",
    "        gamma2 = compute_gamma2(X, r2, q, v_x_bar, k=k)\n",
    "        t8 = time.time()\n",
    "        \n",
    "        times['r2'].append(t2-t1)\n",
    "        times['z'].append(t3-t2)\n",
    "        times['sigma'].append(t4-t3)\n",
    "        times['beta_tilde'].append(t5-t4)\n",
    "        times['beta'].append(t7-t6)\n",
    "        times['gamma'].append(t8-t7)\n",
    "\n",
    "        #print(f\"r2: {r(t2 - t1)}, z: {r(t3-t2)}, sigma: {r(t4-t3)}, beta_tilde: {r(t5-t4)}, recons beta: {r(t7-t6)}, compute gamma: {r(t8-t7)}\")\n",
    "        \n",
    "    return parameters, beta, times"
   ]
  },
  {
   "cell_type": "markdown",
   "id": "functioning-extreme",
   "metadata": {},
   "source": [
    "### Run Gibbs sampler for each dataset"
   ]
  },
  {
   "cell_type": "code",
   "execution_count": 28,
   "id": "southwest-mixer",
   "metadata": {},
   "outputs": [
    {
     "name": "stdout",
     "output_type": "stream",
     "text": [
      "[(0.02, 5), (0.02, 10), (0.02, 100), (0.25, 5), (0.25, 10), (0.25, 100), (0.5, 5), (0.5, 10), (0.5, 100)]\n"
     ]
    }
   ],
   "source": [
    "all_values = []\n",
    "Ry_values = [0.02, 0.25, 0.5]\n",
    "s_values = [5, 10, 100]\n",
    "for Ry in Ry_values:\n",
    "    for s in s_values:\n",
    "        all_values.append((Ry, s))\n",
    "print(all_values)"
   ]
  },
  {
   "cell_type": "code",
   "execution_count": 29,
   "id": "differential-defeat",
   "metadata": {},
   "outputs": [],
   "source": [
    "range_ = range(0, 3)"
   ]
  },
  {
   "cell_type": "code",
   "execution_count": null,
   "id": "virgin-nowhere",
   "metadata": {},
   "outputs": [],
   "source": [
    "for i in range_:\n",
    "    Ry, s = all_values[i]\n",
    "    params, f_beta = gibbs_sampler(Ry, s, n_iter=n_iter, burn_in=burn_in, k=k, T=T, a=a, b=b, A=A, B=B, display_=True)\n",
    "    #dict_results = load_dictionary()\n",
    "    #dict_results[f\"{Ry}, {s}\"].append((params, f_beta))\n",
    "    #save_dictionary(dict_results)"
   ]
  },
  {
   "cell_type": "markdown",
   "id": "defensive-astrology",
   "metadata": {},
   "source": [
    "## Multiprocessing"
   ]
  },
  {
   "cell_type": "code",
   "execution_count": 30,
   "id": "rising-multiple",
   "metadata": {},
   "outputs": [],
   "source": [
    "dict_results = {}\n",
    "Ry_values = [0.02, 0.25, 0.5]\n",
    "s_values = [5, 10, 100]\n",
    "for Ry in Ry_values:\n",
    "    for s in s_values:\n",
    "        dict_results[f\"{Ry}, {s}\"] = []"
   ]
  },
  {
   "cell_type": "code",
   "execution_count": 31,
   "id": "stylish-planet",
   "metadata": {},
   "outputs": [],
   "source": [
    "def draw_values(nb_iterations):\n",
    "    val = []\n",
    "    for _ in range(nb_iterations):\n",
    "        for Ry in Ry_values:\n",
    "            for s in s_values:\n",
    "                val.append((Ry, s))\n",
    "    return val"
   ]
  },
  {
   "cell_type": "code",
   "execution_count": 35,
   "id": "unable-japanese",
   "metadata": {},
   "outputs": [],
   "source": [
    "def run_multiprocessing(dict_results, nb_vals, n_iter=n_iter, burn_in=10_000, k=k, T=T, a=a, b=b, A=A, B=B):\n",
    "    values = draw_values(nb_vals)[:3]\n",
    "    print(values)\n",
    "    \n",
    "    with Pool() as p:\n",
    "        async_results = [p.apply_async(gibbs_sampler, \n",
    "                                       args=(values[i][0], values[i][1], n_iter, burn_in, \n",
    "                                             k, T, a, b, A, B, i==len(values)-1)) for i in range(len(values))]\n",
    "        \n",
    "        for i in range(len(values)):\n",
    "            print(i)\n",
    "            Ry, s = values[i]\n",
    "            dict_results[f\"{Ry}, {s}\"] = async_results[i].get()\n",
    "\n",
    "    #return dict_results\n",
    "    return None"
   ]
  },
  {
   "cell_type": "code",
   "execution_count": null,
   "id": "norman-judge",
   "metadata": {},
   "outputs": [],
   "source": [
    "if __name__ == '__main__':\n",
    "    start = time.time()\n",
    "    run_multiprocessing(dict_results, 1, n_iter=1000, burn_in=100, k=k, T=T, a=a, b=b, A=A, B=B)\n",
    "    stop = time.time()"
   ]
  },
  {
   "cell_type": "code",
   "execution_count": null,
   "id": "together-stability",
   "metadata": {},
   "outputs": [],
   "source": []
  },
  {
   "cell_type": "code",
   "execution_count": null,
   "id": "returning-jimmy",
   "metadata": {},
   "outputs": [],
   "source": []
  },
  {
   "cell_type": "code",
   "execution_count": null,
   "id": "geological-invite",
   "metadata": {},
   "outputs": [],
   "source": []
  },
  {
   "cell_type": "code",
   "execution_count": null,
   "id": "opponent-sentence",
   "metadata": {},
   "outputs": [],
   "source": []
  },
  {
   "cell_type": "code",
   "execution_count": 44,
   "id": "respected-negative",
   "metadata": {},
   "outputs": [],
   "source": [
    "Ry, s = 0.02, 5"
   ]
  },
  {
   "cell_type": "code",
   "execution_count": 47,
   "id": "assumed-singing",
   "metadata": {},
   "outputs": [
    {
     "name": "stdout",
     "output_type": "stream",
     "text": [
      "0.02 5\n"
     ]
    },
    {
     "name": "stderr",
     "output_type": "stream",
     "text": [
      "100%|██████████| 100/100 [02:28<00:00,  1.48s/it]\n"
     ]
    }
   ],
   "source": [
    "params, f_beta, times = gibbs_sampler(Ry, s, n_iter=100, burn_in=0, k=k, T=T, a=a, b=b, A=A, B=B, display_=True)"
   ]
  },
  {
   "cell_type": "code",
   "execution_count": 49,
   "id": "b849f4b9-4dbf-4efd-8ba4-6a025b7c4b9f",
   "metadata": {},
   "outputs": [
    {
     "name": "stdout",
     "output_type": "stream",
     "text": [
      "r2 0.5314328980445862 0.5975098609924316\n",
      "z 0.7372942304611206 1.296513319015503\n",
      "sigma 0.16021465063095092 0.29696226119995117\n",
      "beta_tilde 0.05094492197036743 0.2100081443786621\n",
      "beta 3.7856101989746094e-05 0.00015473365783691406\n",
      "gamma 1.697540283203125e-05 0.00010228157043457031\n"
     ]
    }
   ],
   "source": [
    "for key in times.keys():\n",
    "    print(key, np.mean(times[key]), np.max(times[key]))"
   ]
  },
  {
   "cell_type": "code",
   "execution_count": 51,
   "id": "f836cab1-3ec1-4331-8945-f677716c8a20",
   "metadata": {},
   "outputs": [
    {
     "data": {
      "image/png": "[encoded data removed]",
      "text/plain": [
       "<Figure size 640x480 with 1 Axes>"
      ]
     },
     "metadata": {},
     "output_type": "display_data"
    },
    {
     "name": "stdout",
     "output_type": "stream",
     "text": [
      "\n"
     ]
    },
    {
     "data": {
      "image/png": "[encoded data removed]",
      "text/plain": [
       "<Figure size 640x480 with 1 Axes>"
      ]
     },
     "metadata": {},
     "output_type": "display_data"
    },
    {
     "name": "stdout",
     "output_type": "stream",
     "text": [
      "\n"
     ]
    },
    {
     "data": {
      "image/png": "[encoded data removed]",
      "text/plain": [
       "<Figure size 640x480 with 1 Axes>"
      ]
     },
     "metadata": {},
     "output_type": "display_data"
    },
    {
     "name": "stdout",
     "output_type": "stream",
     "text": [
      "\n"
     ]
    },
    {
     "data": {
      "image/png": "[encoded data removed]",
      "text/plain": [
       "<Figure size 640x480 with 1 Axes>"
      ]
     },
     "metadata": {},
     "output_type": "display_data"
    },
    {
     "name": "stdout",
     "output_type": "stream",
     "text": [
      "\n"
     ]
    },
    {
     "data": {
      "image/png": "[encoded data removed]",
      "text/plain": [
       "<Figure size 640x480 with 1 Axes>"
      ]
     },
     "metadata": {},
     "output_type": "display_data"
    },
    {
     "name": "stdout",
     "output_type": "stream",
     "text": [
      "\n"
     ]
    },
    {
     "data": {
      "image/png": "[encoded data removed]",
      "text/plain": [
       "<Figure size 640x480 with 1 Axes>"
      ]
     },
     "metadata": {},
     "output_type": "display_data"
    },
    {
     "name": "stdout",
     "output_type": "stream",
     "text": [
      "\n"
     ]
    }
   ],
   "source": [
    "for key in times.keys():\n",
    "    plt.scatter(range(len(times[key])), times[key], label=key)\n",
    "    plt.legend()\n",
    "    plt.show()\n",
    "    print()"
   ]
  },
  {
   "cell_type": "code",
   "execution_count": null,
   "id": "3402a995-2065-4276-9813-b4d1e6aefc0e",
   "metadata": {},
   "outputs": [],
   "source": []
  },
  {
   "cell_type": "code",
   "execution_count": 19,
   "id": "6506f285-bff4-47d3-8517-d9fe7f8f218f",
   "metadata": {},
   "outputs": [],
   "source": [
    "Ry, s = 0.25, 10"
   ]
  },
  {
   "cell_type": "code",
   "execution_count": 22,
   "id": "chief-justice",
   "metadata": {},
   "outputs": [],
   "source": [
    "q = draw_initial_q(a=a, b=b)\n",
    "r2 = draw_initial_R2(A=A, B=B)\n",
    "Y, X, beta, sigma_squared, z = draw_dataset(Ry, s, rho=rho, k=k, T=T)\n",
    "v_x_bar = (1/k) * sum([np.var(x) for x in X])\n",
    "gamma2 = compute_gamma2(X, r2, q, v_x_bar, k=k)\n",
    "q_grid = np.concatenate((np.arange(0.001, 0.1, 0.001), np.arange(0.1, 0.9, 0.01), np.arange(0.9, 1, 0.001)))\n",
    "\n",
    "# range_ = tqdm(range(50))\n",
    "# for i in range_:\n",
    "#     r2, q = draw_r2(X, z, beta, sigma_squared, v_x_bar)\n",
    "#     z = draw_z(Y, X, beta, gamma2, z, q, k=k, T=T)\n",
    "#     sigma_squared = draw_sigma(Y, X, beta, gamma2, z)\n",
    "#     beta_tilde = draw_beta_tilde(Y, X, beta, gamma2, z, sigma_squared)\n",
    "\n",
    "#     beta = reconstruct_beta(beta_tilde, z, k=k)\n",
    "#     gamma2 = compute_gamma2(X, r2, q, v_x_bar, k=k)"
   ]
  },
  {
   "cell_type": "code",
   "execution_count": 37,
   "id": "e27dd6be-b3aa-4ef6-9975-e4e2f9341c89",
   "metadata": {},
   "outputs": [
    {
     "name": "stdout",
     "output_type": "stream",
     "text": [
      "488 ms ± 105 ms per loop (mean ± std. dev. of 7 runs, 1 loop each)\n"
     ]
    }
   ],
   "source": [
    "%timeit draw_r2(X, z, beta, sigma_squared, v_x_bar)"
   ]
  },
  {
   "cell_type": "code",
   "execution_count": 38,
   "id": "182afc1e-9300-4052-9ba0-13a7fd118b7c",
   "metadata": {},
   "outputs": [
    {
     "name": "stdout",
     "output_type": "stream",
     "text": [
      "844 ms ± 59.5 ms per loop (mean ± std. dev. of 7 runs, 1 loop each)\n"
     ]
    }
   ],
   "source": [
    "%timeit draw_z(Y, X, beta, gamma2, z, q, k=k, T=T)"
   ]
  },
  {
   "cell_type": "code",
   "execution_count": 39,
   "id": "f4df53bc-23f3-4355-b411-d50e8f1e1c9c",
   "metadata": {},
   "outputs": [
    {
     "name": "stdout",
     "output_type": "stream",
     "text": [
      "22.8 ms ± 9.03 ms per loop (mean ± std. dev. of 7 runs, 10 loops each)\n"
     ]
    }
   ],
   "source": [
    "%timeit draw_sigma(Y, X, beta, gamma2, z)"
   ]
  },
  {
   "cell_type": "code",
   "execution_count": 40,
   "id": "2bffc314-f1f5-4724-ad62-a18923663caa",
   "metadata": {},
   "outputs": [
    {
     "name": "stdout",
     "output_type": "stream",
     "text": [
      "50.4 ms ± 12.9 ms per loop (mean ± std. dev. of 7 runs, 10 loops each)\n"
     ]
    }
   ],
   "source": [
    "%timeit draw_beta_tilde(Y, X, beta, gamma2, z, sigma_squared)"
   ]
  },
  {
   "cell_type": "code",
   "execution_count": 42,
   "id": "31159ee7-f60c-4df1-bf49-441b09b232e6",
   "metadata": {},
   "outputs": [
    {
     "data": {
      "text/plain": [
       "(0.063, 0.9940000000000001)"
      ]
     },
     "execution_count": 42,
     "metadata": {},
     "output_type": "execute_result"
    }
   ],
   "source": [
    "draw_r2(X, z, beta, sigma_squared, v_x_bar, np.concatenate((np.arange(0.001, 0.1, 0.001), np.arange(0.1, 0.9, 0.01), np.arange(0.9, 1, 0.001))))"
   ]
  }
 ],
 "metadata": {
  "kernelspec": {
   "display_name": "Python 3 (ipykernel)",
   "language": "python",
   "name": "python3"
  },
  "language_info": {
   "codemirror_mode": {
    "name": "ipython",
    "version": 3
   },
   "file_extension": ".py",
   "mimetype": "text/x-python",
   "name": "python",
   "nbconvert_exporter": "python",
   "pygments_lexer": "ipython3",
   "version": "3.10.13"
  }
 },
 "nbformat": 4,
 "nbformat_minor": 5
}
