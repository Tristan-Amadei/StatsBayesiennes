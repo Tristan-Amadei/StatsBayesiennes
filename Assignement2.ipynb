{
 "cells": [
  {
   "cell_type": "code",
   "execution_count": 1,
   "id": "handy-compression",
   "metadata": {},
   "outputs": [],
   "source": [
    "import numpy as np\n",
    "from tqdm import tqdm"
   ]
  },
  {
   "cell_type": "markdown",
   "id": "aging-montgomery",
   "metadata": {},
   "source": [
    "# 1. Simulate data"
   ]
  },
  {
   "cell_type": "markdown",
   "id": "understanding-causing",
   "metadata": {},
   "source": [
    "$$y_t = u'_t \\phi + x'_t \\beta + \\epsilon_t, \\epsilon_t \\stackrel{\\text{i.i.d}}{\\sim} \\mathcal{N}(0, \\sigma^{2}) $$\n",
    "In our case, as the dimension of U is l = 0, we have \n",
    "$$y_t = x'_t \\beta + \\epsilon_t, \\epsilon_t \\stackrel{\\text{i.i.d}}{\\sim} \\mathcal{N}(0, \\sigma^{2}) $$"
   ]
  },
  {
   "cell_type": "code",
   "execution_count": 2,
   "id": "supposed-handling",
   "metadata": {},
   "outputs": [],
   "source": [
    "l = 0\n",
    "k = 100\n",
    "T = 200"
   ]
  },
  {
   "cell_type": "code",
   "execution_count": 3,
   "id": "tender-landing",
   "metadata": {},
   "outputs": [],
   "source": [
    "a, b, A, B = 1, 1, 1, 1"
   ]
  },
  {
   "cell_type": "markdown",
   "id": "proprietary-optimization",
   "metadata": {},
   "source": [
    "### Draw initial q"
   ]
  },
  {
   "cell_type": "code",
   "execution_count": 4,
   "id": "julian-subdivision",
   "metadata": {},
   "outputs": [],
   "source": [
    "def draw_initial_q(a=a, b=b):\n",
    "    return np.random.beta(a, b)"
   ]
  },
  {
   "cell_type": "markdown",
   "id": "fiscal-quantity",
   "metadata": {},
   "source": [
    "### Draw initial $R²$"
   ]
  },
  {
   "cell_type": "code",
   "execution_count": 5,
   "id": "differential-teach",
   "metadata": {},
   "outputs": [],
   "source": [
    "def draw_initial_R2(A=A, B=B):\n",
    "    return np.random.beta(A, B)"
   ]
  },
  {
   "cell_type": "markdown",
   "id": "hollow-summit",
   "metadata": {},
   "source": [
    "### Draw initial $\\sigma²$"
   ]
  },
  {
   "cell_type": "code",
   "execution_count": 6,
   "id": "civic-retailer",
   "metadata": {},
   "outputs": [],
   "source": [
    "def draw_inital_sigma_squared(X, beta, Ry, T=T):\n",
    "    return ((1/Ry) - 1) * (1/T) * sum([(beta.T @ x)**2 for x in X])"
   ]
  },
  {
   "cell_type": "markdown",
   "id": "authentic-alabama",
   "metadata": {},
   "source": [
    "### Draw initial $\\beta$"
   ]
  },
  {
   "cell_type": "code",
   "execution_count": 7,
   "id": "applicable-timothy",
   "metadata": {},
   "outputs": [],
   "source": [
    "def draw_initial_beta(s, k=k):\n",
    "    beta = np.random.normal(size=k)\n",
    "    indices_null = np.random.choice(range(k), size=k-s, replace=False)\n",
    "    beta[indices_null] = 0\n",
    "    z = np.ones(k)\n",
    "    z[indices_null] = 0\n",
    "    return beta, z"
   ]
  },
  {
   "cell_type": "markdown",
   "id": "complicated-ethics",
   "metadata": {},
   "source": [
    "### Simulate X"
   ]
  },
  {
   "cell_type": "code",
   "execution_count": 8,
   "id": "strong-project",
   "metadata": {},
   "outputs": [],
   "source": [
    "from scipy.linalg import toeplitz"
   ]
  },
  {
   "cell_type": "code",
   "execution_count": 9,
   "id": "dominican-therapist",
   "metadata": {},
   "outputs": [],
   "source": [
    "rho = 0.75"
   ]
  },
  {
   "cell_type": "code",
   "execution_count": 10,
   "id": "accepted-stewart",
   "metadata": {},
   "outputs": [],
   "source": [
    "def draw_X(rho=rho, k=k, T=T):\n",
    "    correlation_matrix = toeplitz(rho ** np.arange(0, k))\n",
    "    return np.random.multivariate_normal(np.zeros(k), correlation_matrix, size=T)"
   ]
  },
  {
   "cell_type": "markdown",
   "id": "hindu-click",
   "metadata": {},
   "source": [
    "### Simulate Y"
   ]
  },
  {
   "cell_type": "code",
   "execution_count": 11,
   "id": "weekly-magic",
   "metadata": {},
   "outputs": [],
   "source": [
    "def draw_Y(X, beta, sigma_squared):\n",
    "    return X @ beta + np.random.normal(0, sigma_squared, size=(X @ beta).shape[0])"
   ]
  },
  {
   "cell_type": "code",
   "execution_count": 12,
   "id": "limiting-selection",
   "metadata": {},
   "outputs": [],
   "source": [
    "def draw_dataset(Ry, s, rho=rho, k=k, T=T):\n",
    "    X = draw_X()\n",
    "    beta, z = draw_initial_beta(s, k=k)\n",
    "    sigma_squared = draw_inital_sigma_squared(X, beta, Ry, T=T)\n",
    "    Y = draw_Y(X, beta, sigma_squared)\n",
    "    return Y, X, beta, sigma_squared, z"
   ]
  },
  {
   "cell_type": "markdown",
   "id": "reasonable-denmark",
   "metadata": {},
   "source": [
    "# 2. Draw from posteriors"
   ]
  },
  {
   "cell_type": "code",
   "execution_count": 13,
   "id": "rough-warehouse",
   "metadata": {},
   "outputs": [],
   "source": [
    "def inverse_matrix(A):\n",
    "    try:\n",
    "        return np.linalg.solve(A, np.eye(A.shape[0]))\n",
    "    except:\n",
    "        return A"
   ]
  },
  {
   "cell_type": "code",
   "execution_count": 14,
   "id": "suffering-criterion",
   "metadata": {},
   "outputs": [],
   "source": [
    "def draw_tildes(Y, X, beta_tilde, gamma, z):\n",
    "    X_tilde = X[:, z != 0]\n",
    "    #beta_tilde = beta[z != 0]\n",
    "    W_tilde = X_tilde.T @ X_tilde + (1/gamma**2) * np.eye(int(np.sum(z)))\n",
    "    Y_tilde = Y \n",
    "    beta_tilde_hat = inverse_matrix(W_tilde) @ X_tilde.T @ Y_tilde\n",
    "    return X_tilde, beta_tilde, W_tilde, Y_tilde, beta_tilde_hat"
   ]
  },
  {
   "cell_type": "markdown",
   "id": "ruled-torture",
   "metadata": {},
   "source": [
    "### (I). Draw from $R²$"
   ]
  },
  {
   "cell_type": "code",
   "execution_count": 15,
   "id": "architectural-guard",
   "metadata": {},
   "outputs": [],
   "source": [
    "def draw_r2(X, z, beta, sigma_squared, k=k, a=a, b=b, A=A, B=B):\n",
    "    s_z = np.sum(z)\n",
    "    v_x_bar = (1/k) * sum([np.var(x) for x in X])\n",
    "    q_grid = np.concatenate((np.arange(0, 0.1, 0.001), np.arange(0.1, 0.9, 0.01), np.arange(0.9, 1.001, 0.001)))\n",
    "    r2_grid = q_grid[1:] # we remove the first term of the grid which is 0 so as not to divide by 0\n",
    "    posterior = np.zeros((len(q_grid), len(r2_grid)))\n",
    "    \n",
    "    beta_term = (beta.T @ np.diag(z) @ beta)\n",
    "    \n",
    "    for i in range(len(q_grid)):\n",
    "        q = q_grid[i]\n",
    "        q_term = q ** (s_z + s_z/2 + a - 1) * (1-q) ** (k - s_z + b - 1)\n",
    "        \n",
    "        for j in range(len(r2_grid)):\n",
    "            r2 = r2_grid[j]\n",
    "            \n",
    "            exp_term = np.exp((-1/(2*sigma_squared)) * ((k * v_x_bar * q * (1 - r2)) / r2) * beta_term)\n",
    "            r2_term = r2 ** (A - 1 - s_z/2) * (1-r2) ** (s_z/2 + B - 1)\n",
    "            posterior[i, j] = exp_term * q_term * r2_term\n",
    "    \n",
    "    # normalize the posterior\n",
    "    posterior = posterior.flatten() / np.sum(posterior)\n",
    "    \n",
    "    x = np.argmax(np.random.multinomial(1, posterior))\n",
    "    i, j = np.unravel_index(x, np.zeros((len(q_grid), len(r2_grid))).shape)\n",
    "    q = q_grid[i]\n",
    "    r2 = r2_grid[j]\n",
    "    return r2, q"
   ]
  },
  {
   "cell_type": "markdown",
   "id": "color-substance",
   "metadata": {},
   "source": [
    "### (III). Draw from z"
   ]
  },
  {
   "cell_type": "code",
   "execution_count": 16,
   "id": "agricultural-orientation",
   "metadata": {},
   "outputs": [],
   "source": [
    "import scipy.special as sp"
   ]
  },
  {
   "cell_type": "code",
   "execution_count": 17,
   "id": "accredited-banking",
   "metadata": {},
   "outputs": [],
   "source": [
    "clip_down = lambda x: np.clip(x, a_min=1e-150, a_max=None)\n",
    "\n",
    "def draw_zi(Y, X, beta, gamma, z, i, q, k=k, T=T):\n",
    "    \n",
    "    # Exclude the i-th element from z and X\n",
    "    z_minus_i = np.delete(z, i)\n",
    "    X_minus_i = np.delete(X, i, axis=1)\n",
    "    beta_minus_i = np.delete(beta, i)\n",
    "    X_tilde_minus_i, beta_tilde_minus_i, W_tilde_minus_i, Y_tilde, beta_tilde_hat_minus_i = draw_tildes(Y, X_minus_i , beta_minus_i , gamma, z_minus_i)\n",
    "    \n",
    "    s_z_minus_i = np.sum(z_minus_i)\n",
    "    \n",
    "    q_term = q ** s_z_minus_i * (1-q) ** (k-s_z_minus_i)\n",
    "    gamma_term = (1/(gamma**2)) ** (s_z_minus_i/2) * np.linalg.norm(W_tilde_minus_i) ** (-1/2)\n",
    "    fraction_term = clip_down(((Y_tilde.T @ Y_tilde - beta_tilde_hat_minus_i.T @ W_tilde_minus_i @ beta_tilde_hat_minus_i)/2) ** (-T/2))\n",
    "    posterior = q_term * gamma_term * fraction_term * sp.gamma(T/2)\n",
    "    return posterior"
   ]
  },
  {
   "cell_type": "code",
   "execution_count": 18,
   "id": "bigger-capability",
   "metadata": {},
   "outputs": [],
   "source": [
    "def draw_z(Y, X, beta_tilde, gamma, z, q, k=k, T=T):\n",
    "    return np.random.binomial(1, q, size=k)"
   ]
  },
  {
   "cell_type": "markdown",
   "id": "palestinian-barcelona",
   "metadata": {},
   "source": [
    "### (IV). Draw from $\\sigma²$"
   ]
  },
  {
   "cell_type": "code",
   "execution_count": 19,
   "id": "incorporate-station",
   "metadata": {},
   "outputs": [],
   "source": [
    "import scipy.stats as stats"
   ]
  },
  {
   "cell_type": "code",
   "execution_count": 20,
   "id": "respiratory-franchise",
   "metadata": {},
   "outputs": [],
   "source": [
    "def draw_sigma(Y, X, beta_tilde, gamma, z):\n",
    "    X_tilde, beta_tilde, W_tilde, Y_tilde, beta_tilde_hat = draw_tildes(Y, X, beta_tilde, gamma, z)\n",
    "    variance = (1/2) * (Y_tilde.T @ Y_tilde - beta_tilde_hat.T @ W_tilde @ beta_tilde_hat)\n",
    "    return stats.invgamma.rvs(T/2, variance)"
   ]
  },
  {
   "cell_type": "markdown",
   "id": "powerful-branch",
   "metadata": {},
   "source": [
    "### (V). Draw from $\\tilde{\\beta}$"
   ]
  },
  {
   "cell_type": "code",
   "execution_count": 21,
   "id": "governmental-poker",
   "metadata": {},
   "outputs": [],
   "source": [
    "def draw_beta_tilde(Y, X, beta_tilde, gamma, z, sigma_squared):\n",
    "    X_tilde, beta_tilde, W_tilde, Y_tilde, beta_tilde_hat = draw_tildes(Y, X, beta_tilde, gamma, z)\n",
    "    mean = inverse_matrix(W_tilde) @ X_tilde.T @ Y_tilde\n",
    "    variance = sigma_squared * inverse_matrix(W_tilde)\n",
    "    return np.random.multivariate_normal(mean, variance, size=X_tilde.shape[1])"
   ]
  },
  {
   "cell_type": "markdown",
   "id": "deluxe-radical",
   "metadata": {},
   "source": [
    "# 3. Gibbs Sampler"
   ]
  },
  {
   "cell_type": "code",
   "execution_count": 22,
   "id": "directed-morris",
   "metadata": {},
   "outputs": [],
   "source": [
    "n_iter = 110_000"
   ]
  },
  {
   "cell_type": "code",
   "execution_count": 23,
   "id": "postal-attempt",
   "metadata": {},
   "outputs": [],
   "source": [
    "def gibbs_sampler(Ry, s, n_iter=n_iter, k=k, T=T, a=a, b=b, A=A, B=B, display_=False):\n",
    "    \n",
    "    ### initialize dataset ###\n",
    "    gamma = np.random.uniform()\n",
    "    q = draw_initial_q(a=a, b=b)\n",
    "    r2 = draw_initial_R2(A=A, B=B)\n",
    "    Y, X, beta, sigma_squared, z = draw_dataset(Ry, s, rho=rho, k=k, T=T)\n",
    "    beta_tilde = beta[z != 0]\n",
    "    \n",
    "    parameters = []\n",
    "    parameters.append([beta_tilde, sigma_squared, z, r2, q])\n",
    "    \n",
    "    range_ = tqdm(range(n_iter)) if display_ else range(n_iter)\n",
    "    for i in range_:\n",
    "        r2, q = draw_r2(X, z, beta, sigma_squared, k=k, a=a, b=b, A=A, B=B)\n",
    "        z = draw_z(Y, X, beta_tilde, gamma, z, q, k=k, T=T)\n",
    "        sigma_squared = draw_sigma(Y, X, beta_tilde, gamma, z)\n",
    "        beta_tilde = draw_beta_tilde(Y, X, beta_tilde, gamma, z, sigma_squared)\n",
    "        parameters.append([beta_tilde, sigma_squared, z, r2, q])\n",
    "        \n",
    "    return parameters"
   ]
  },
  {
   "cell_type": "code",
   "execution_count": null,
   "id": "ready-processing",
   "metadata": {},
   "outputs": [
    {
     "name": "stderr",
     "output_type": "stream",
     "text": [
      "  1%|          | 1142/110000 [34:00<70:31:28,  2.33s/it]"
     ]
    }
   ],
   "source": [
    "params = gibbs_sampler(0.25, 5, n_iter=n_iter, k=k, T=T, a=a, b=b, A=A, B=B, display_=True)"
   ]
  }
 ],
 "metadata": {
  "kernelspec": {
   "display_name": "Python 3 (ipykernel)",
   "language": "python",
   "name": "python3"
  },
  "language_info": {
   "codemirror_mode": {
    "name": "ipython",
    "version": 3
   },
   "file_extension": ".py",
   "mimetype": "text/x-python",
   "name": "python",
   "nbconvert_exporter": "python",
   "pygments_lexer": "ipython3",
   "version": "3.10.13"
  }
 },
 "nbformat": 4,
 "nbformat_minor": 5
}
