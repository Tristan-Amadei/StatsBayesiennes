{
 "cells": [
  {
   "cell_type": "code",
   "execution_count": 1,
   "id": "304430b8-55ff-49c9-859e-2306d52f6792",
   "metadata": {},
   "outputs": [],
   "source": [
    "import numpy as np"
   ]
  },
  {
   "cell_type": "markdown",
   "id": "5b3141e9-0e27-47dd-9d7a-170302be35de",
   "metadata": {},
   "source": [
    "# 1. Simulate data"
   ]
  },
  {
   "cell_type": "markdown",
   "id": "cb4dd30f-0a2a-478d-a953-7a537cfd33b5",
   "metadata": {},
   "source": [
    "$$y_t = u'_t \\phi + x'_t \\beta + \\epsilon_t, \\epsilon_t \\stackrel{\\text{i.i.d}}{\\sim} \\mathcal{N}(0, \\sigma^{2}) $$"
   ]
  },
  {
   "cell_type": "code",
   "execution_count": 6,
   "id": "49152ba3-e462-4bb5-85de-c3d51146493b",
   "metadata": {},
   "outputs": [],
   "source": [
    "l = 0\n",
    "k = 100\n",
    "T = 200"
   ]
  },
  {
   "cell_type": "code",
   "execution_count": 7,
   "id": "da380cae-9edb-47fb-9bec-08381394bb17",
   "metadata": {},
   "outputs": [],
   "source": [
    "a, b, A, B = 1, 1, 1, 1"
   ]
  },
  {
   "cell_type": "markdown",
   "id": "6a303db3-c3dd-4131-89ff-2e89647cd94c",
   "metadata": {},
   "source": [
    "### Simulate X"
   ]
  },
  {
   "cell_type": "code",
   "execution_count": 3,
   "id": "0d33a10a-8ad4-474e-8645-23064e1dec19",
   "metadata": {},
   "outputs": [],
   "source": [
    "from scipy.linalg import toeplitz"
   ]
  },
  {
   "cell_type": "code",
   "execution_count": 4,
   "id": "942aafe8-9535-43a9-b4bd-ebac4e77f077",
   "metadata": {},
   "outputs": [],
   "source": [
    "rho = 0.75"
   ]
  },
  {
   "cell_type": "code",
   "execution_count": 27,
   "id": "e45493e0-16c5-4d02-9e1b-ef8dca2ae148",
   "metadata": {},
   "outputs": [],
   "source": [
    "def draw_X(rho=rho, k=k, T=T):\n",
    "    correlation_matrix = toeplitz(rho ** np.arange(0, k))\n",
    "    return np.random.multivariate_normal(np.zeros(k), correlation_matrix, size=T)"
   ]
  },
  {
   "cell_type": "markdown",
   "id": "8b744015-65ca-4abf-9483-dbaa64c86cc6",
   "metadata": {},
   "source": [
    "### Simulate U"
   ]
  },
  {
   "cell_type": "code",
   "execution_count": null,
   "id": "1cda7e8c-8226-41fc-9c9e-73daced7263d",
   "metadata": {},
   "outputs": [],
   "source": []
  },
  {
   "cell_type": "markdown",
   "id": "863bd53c-3380-4d8c-aff9-3d0ecefb78df",
   "metadata": {},
   "source": [
    "### Simulate Y"
   ]
  },
  {
   "cell_type": "code",
   "execution_count": 63,
   "id": "b830569e-655e-4dc8-9979-db076d4f92cd",
   "metadata": {},
   "outputs": [],
   "source": [
    "def draw_Y(U, X, phi, beta, sigma_squared):\n",
    "    return U @ phi + X @ beta + np.random.normal(0, sigma_squared, size=(X @ beta).shape[0])"
   ]
  },
  {
   "cell_type": "markdown",
   "id": "fdb14a76-f710-4555-8a9b-90835cd9e99b",
   "metadata": {},
   "source": [
    "# 2. Draw from posteriors"
   ]
  },
  {
   "cell_type": "markdown",
   "id": "acfbe817-9396-4bf7-a951-4e09dff1771f",
   "metadata": {},
   "source": [
    "### (I). Draw from $R^2$"
   ]
  },
  {
   "cell_type": "code",
   "execution_count": null,
   "id": "6396506a-fd3f-4233-8f12-3a1167730ca8",
   "metadata": {},
   "outputs": [],
   "source": []
  },
  {
   "cell_type": "markdown",
   "id": "b58e711b-f8cc-4b5d-afe6-24f7dee6eb00",
   "metadata": {},
   "source": [
    "### (II). Draw from $\\phi$"
   ]
  },
  {
   "cell_type": "code",
   "execution_count": 67,
   "id": "6cc78f76-e08c-4bff-b296-1d588ec97d62",
   "metadata": {},
   "outputs": [],
   "source": [
    "def inverse_matrix(A):\n",
    "    try:\n",
    "        return np.linalg.solve(A, np.eye(A.shape[0]))\n",
    "    except:\n",
    "        return A"
   ]
  },
  {
   "cell_type": "code",
   "execution_count": 68,
   "id": "5552426b-b1f0-49b5-b40e-453e83b8a957",
   "metadata": {},
   "outputs": [],
   "source": [
    "def draw_phi(U, Y, X, beta, sigma_squared):\n",
    "    U_U_inv = inverse_matrix(U.T @ U)\n",
    "    mean_phi = U_U_inv @ U.T @ (Y - X @ beta)\n",
    "    var_phi = sigma_squared * U_U_inv\n",
    "    return np.random.multivariate_normal(mean_phi, var_phi, size=1)"
   ]
  },
  {
   "cell_type": "markdown",
   "id": "d2cd6260-53d1-4c62-936a-66364b96f638",
   "metadata": {},
   "source": [
    "### (III). Draw from z"
   ]
  },
  {
   "cell_type": "code",
   "execution_count": 88,
   "id": "30a88d3d-0447-4f80-aa90-eda538dfc740",
   "metadata": {},
   "outputs": [],
   "source": [
    "def draw_tildes(Y, U, X, phi, beta, gamma, z):\n",
    "    X_tilde = X[:, z != 0]\n",
    "    beta_tilde = beta[z != 0]\n",
    "    W_tilde = X_tilde.T @ X_tilde + (1/gamma**2) * np.eye(np.sum(z))\n",
    "    Y_tilde = Y - U @ phi\n",
    "    beta_tilde_hat = inverse_matrix(W_tilde) @ X_tilde.T @ Y_tilde\n",
    "    return X_tilde, beta_tilde, W_tilde, Y_tilde, beta_tilde_hat"
   ]
  },
  {
   "cell_type": "code",
   "execution_count": null,
   "id": "fc082e3e-a299-4aa9-be6a-a16cde89d798",
   "metadata": {},
   "outputs": [],
   "source": []
  },
  {
   "cell_type": "markdown",
   "id": "1002a2d4-0d3d-4986-8031-a5943b8e0045",
   "metadata": {},
   "source": [
    "### (IV). Draw from $\\sigma^2$"
   ]
  },
  {
   "cell_type": "code",
   "execution_count": 69,
   "id": "19953029-ba94-41e9-9856-5667757807c1",
   "metadata": {},
   "outputs": [],
   "source": [
    "import scipy.stats as stats"
   ]
  },
  {
   "cell_type": "code",
   "execution_count": 89,
   "id": "a102d388-7747-4597-bf50-316d8c06737d",
   "metadata": {},
   "outputs": [],
   "source": [
    "def draw_sigma(Y, U, X, phi, beta, gamma, z):\n",
    "    X_tilde, beta_tilde, W_tilde, Y_tilde, beta_tilde_hat = draw_tildes(Y, U, X, phi, beta, gamma, z)\n",
    "    variance = (1/2) * (Y_tilde.T @ Y_tilde - beta_tilde_hat.T @ W_tilde @ beta_tilde_hat)\n",
    "    return stats.invgamma.rvs(T/2, variance, size=1)"
   ]
  },
  {
   "cell_type": "markdown",
   "id": "4f13c8a9-d0dd-4168-b0a6-eab651f18ba9",
   "metadata": {},
   "source": [
    "### (V). Draw from $\\tilde{\\beta}$"
   ]
  },
  {
   "cell_type": "code",
   "execution_count": null,
   "id": "1f7e1b9f-f7fd-4088-9121-f38f6119099f",
   "metadata": {},
   "outputs": [],
   "source": [
    "def draw_beta_tilde(Y, U, X, phi, beta, gamma, z, sigma_squared):\n",
    "    X_tilde, beta_tilde, W_tilde, Y_tilde, beta_tilde_hat = draw_tildes(Y, U, X, phi, beta, gamma, z)\n",
    "    mean = inverse_matrix(W_tilde) @ X_tilde.T @ Y_tilde\n",
    "    variance = sigma_squared * inverse_matrix(W_tilde)"
   ]
  }
 ],
 "metadata": {
  "kernelspec": {
   "display_name": "Python 3 (ipykernel)",
   "language": "python",
   "name": "python3"
  },
  "language_info": {
   "codemirror_mode": {
    "name": "ipython",
    "version": 3
   },
   "file_extension": ".py",
   "mimetype": "text/x-python",
   "name": "python",
   "nbconvert_exporter": "python",
   "pygments_lexer": "ipython3",
   "version": "3.10.12"
  }
 },
 "nbformat": 4,
 "nbformat_minor": 5
}
